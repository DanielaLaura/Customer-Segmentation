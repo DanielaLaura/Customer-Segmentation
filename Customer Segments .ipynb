{
 "cells": [
  {
   "cell_type": "code",
   "execution_count": 113,
   "metadata": {
    "collapsed": true,
    "deletable": true,
    "editable": true
   },
   "outputs": [],
   "source": [
    "#data manipulation\n",
    "import numpy as np \n",
    "import pandas as pd\n",
    "\n",
    "#Visualization\n",
    "import matplotlib.pyplot as plt\n",
    "import seaborn as sns\n",
    "\n",
    "# Set a few plotting defaults\n",
    "%matplotlib inline\n",
    "plt.style.use('fivethirtyeight')\n",
    "plt.rcParams['font.size'] = 18\n",
    "plt.rcParams['patch.edgecolor'] = 'k'"
   ]
  },
  {
   "cell_type": "markdown",
   "metadata": {
    "deletable": true,
    "editable": true
   },
   "source": [
    "### Load in the Data and Examine"
   ]
  },
  {
   "cell_type": "code",
   "execution_count": 114,
   "metadata": {
    "collapsed": false,
    "deletable": true,
    "editable": true
   },
   "outputs": [
    {
     "data": {
      "text/html": [
       "<div>\n",
       "<style scoped>\n",
       "    .dataframe tbody tr th:only-of-type {\n",
       "        vertical-align: middle;\n",
       "    }\n",
       "\n",
       "    .dataframe tbody tr th {\n",
       "        vertical-align: top;\n",
       "    }\n",
       "\n",
       "    .dataframe thead th {\n",
       "        text-align: right;\n",
       "    }\n",
       "</style>\n",
       "<table border=\"1\" class=\"dataframe\">\n",
       "  <thead>\n",
       "    <tr style=\"text-align: right;\">\n",
       "      <th></th>\n",
       "      <th>Date</th>\n",
       "      <th>Platform</th>\n",
       "      <th>build_version</th>\n",
       "      <th>client_id</th>\n",
       "      <th>outcome</th>\n",
       "      <th>experience_points</th>\n",
       "    </tr>\n",
       "  </thead>\n",
       "  <tbody>\n",
       "    <tr>\n",
       "      <th>0</th>\n",
       "      <td>2015-12-08</td>\n",
       "      <td>PC</td>\n",
       "      <td>1.0.2</td>\n",
       "      <td>pczzdp11e6p</td>\n",
       "      <td>win</td>\n",
       "      <td>295.636308</td>\n",
       "    </tr>\n",
       "    <tr>\n",
       "      <th>1</th>\n",
       "      <td>2015-11-14</td>\n",
       "      <td>PS4</td>\n",
       "      <td>1.0.1</td>\n",
       "      <td>p231ep4ebbp</td>\n",
       "      <td>win</td>\n",
       "      <td>510.737943</td>\n",
       "    </tr>\n",
       "    <tr>\n",
       "      <th>2</th>\n",
       "      <td>2015-11-26</td>\n",
       "      <td>PS4</td>\n",
       "      <td>1.0.1</td>\n",
       "      <td>p1321p488fp</td>\n",
       "      <td>win</td>\n",
       "      <td>333.307999</td>\n",
       "    </tr>\n",
       "    <tr>\n",
       "      <th>3</th>\n",
       "      <td>2015-12-03</td>\n",
       "      <td>PC</td>\n",
       "      <td>1.0.1</td>\n",
       "      <td>pzda4p4z98p</td>\n",
       "      <td>win</td>\n",
       "      <td>542.839919</td>\n",
       "    </tr>\n",
       "    <tr>\n",
       "      <th>4</th>\n",
       "      <td>2015-11-22</td>\n",
       "      <td>PC</td>\n",
       "      <td>1.0.1</td>\n",
       "      <td>pe8e7p40a9p</td>\n",
       "      <td>win</td>\n",
       "      <td>381.683084</td>\n",
       "    </tr>\n",
       "  </tbody>\n",
       "</table>\n",
       "</div>"
      ],
      "text/plain": [
       "         Date Platform build_version    client_id outcome  experience_points\n",
       "0  2015-12-08       PC         1.0.2  pczzdp11e6p     win         295.636308\n",
       "1  2015-11-14      PS4         1.0.1  p231ep4ebbp     win         510.737943\n",
       "2  2015-11-26      PS4         1.0.1  p1321p488fp     win         333.307999\n",
       "3  2015-12-03       PC         1.0.1  pzda4p4z98p     win         542.839919\n",
       "4  2015-11-22       PC         1.0.1  pe8e7p40a9p     win         381.683084"
      ]
     },
     "execution_count": 114,
     "metadata": {},
     "output_type": "execute_result"
    }
   ],
   "source": [
    "# Read in  data\n",
    "play = pd.read_csv('play_evaluation.csv', sep=';')\n",
    "sales = pd.read_csv('sales_evaluation.csv', sep=';')\n",
    "play.head()"
   ]
  },
  {
   "cell_type": "code",
   "execution_count": 115,
   "metadata": {
    "collapsed": false,
    "deletable": true,
    "editable": true
   },
   "outputs": [
    {
     "name": "stdout",
     "output_type": "stream",
     "text": [
      "<class 'pandas.core.frame.DataFrame'>\n",
      "RangeIndex: 30000 entries, 0 to 29999\n",
      "Data columns (total 6 columns):\n",
      "Date                 30000 non-null object\n",
      "Platform             30000 non-null object\n",
      "build_version        30000 non-null object\n",
      "client_id            30000 non-null object\n",
      "outcome              30000 non-null object\n",
      "experience_points    30000 non-null float64\n",
      "dtypes: float64(1), object(5)\n",
      "memory usage: 1.4+ MB\n"
     ]
    }
   ],
   "source": [
    "play.info()"
   ]
  },
  {
   "cell_type": "markdown",
   "metadata": {
    "deletable": true,
    "editable": true
   },
   "source": [
    "There is a row in data cell that exceeds the number of days in a month; I will drop that value "
   ]
  },
  {
   "cell_type": "code",
   "execution_count": 116,
   "metadata": {
    "collapsed": true,
    "deletable": true,
    "editable": true
   },
   "outputs": [],
   "source": [
    "play = play.replace('2015-11-31', np.nan).dropna()"
   ]
  },
  {
   "cell_type": "code",
   "execution_count": 117,
   "metadata": {
    "collapsed": false,
    "deletable": true,
    "editable": true
   },
   "outputs": [],
   "source": [
    "#Transform Data column from object type to datatime, in order to do transformation and stitstics with it\n",
    "play['Date'] = pd.to_datetime(play['Date'])"
   ]
  },
  {
   "cell_type": "code",
   "execution_count": 118,
   "metadata": {
    "collapsed": false,
    "deletable": true,
    "editable": true
   },
   "outputs": [
    {
     "name": "stdout",
     "output_type": "stream",
     "text": [
      "<class 'pandas.core.frame.DataFrame'>\n",
      "Int64Index: 29084 entries, 0 to 29999\n",
      "Data columns (total 6 columns):\n",
      "Date                 29084 non-null datetime64[ns]\n",
      "Platform             29084 non-null object\n",
      "build_version        29084 non-null object\n",
      "client_id            29084 non-null object\n",
      "outcome              29084 non-null object\n",
      "experience_points    29084 non-null float64\n",
      "dtypes: datetime64[ns](1), float64(1), object(4)\n",
      "memory usage: 1.6+ MB\n"
     ]
    }
   ],
   "source": [
    "play.info()"
   ]
  },
  {
   "cell_type": "code",
   "execution_count": 119,
   "metadata": {
    "collapsed": false,
    "deletable": true,
    "editable": true
   },
   "outputs": [
    {
     "data": {
      "text/html": [
       "<div>\n",
       "<style scoped>\n",
       "    .dataframe tbody tr th:only-of-type {\n",
       "        vertical-align: middle;\n",
       "    }\n",
       "\n",
       "    .dataframe tbody tr th {\n",
       "        vertical-align: top;\n",
       "    }\n",
       "\n",
       "    .dataframe thead th {\n",
       "        text-align: right;\n",
       "    }\n",
       "</style>\n",
       "<table border=\"1\" class=\"dataframe\">\n",
       "  <thead>\n",
       "    <tr style=\"text-align: right;\">\n",
       "      <th></th>\n",
       "      <th>store_item_name</th>\n",
       "      <th>client_id</th>\n",
       "      <th>Date</th>\n",
       "      <th>dollar_spent</th>\n",
       "    </tr>\n",
       "  </thead>\n",
       "  <tbody>\n",
       "    <tr>\n",
       "      <th>0</th>\n",
       "      <td>pack_a</td>\n",
       "      <td>pac2dp471ap</td>\n",
       "      <td>2015-12-02</td>\n",
       "      <td>0.99</td>\n",
       "    </tr>\n",
       "    <tr>\n",
       "      <th>1</th>\n",
       "      <td>pack_a</td>\n",
       "      <td>p6718p11e7p</td>\n",
       "      <td>2015-12-08</td>\n",
       "      <td>0.99</td>\n",
       "    </tr>\n",
       "    <tr>\n",
       "      <th>2</th>\n",
       "      <td>bundle_9</td>\n",
       "      <td>pczbap4facp</td>\n",
       "      <td>2015-11-23</td>\n",
       "      <td>18.50</td>\n",
       "    </tr>\n",
       "    <tr>\n",
       "      <th>3</th>\n",
       "      <td>pack_a</td>\n",
       "      <td>p606cp4fe8p</td>\n",
       "      <td>2015-11-25</td>\n",
       "      <td>0.99</td>\n",
       "    </tr>\n",
       "    <tr>\n",
       "      <th>4</th>\n",
       "      <td>pack_b</td>\n",
       "      <td>pc06ep11e6p</td>\n",
       "      <td>2015-11-18</td>\n",
       "      <td>1.20</td>\n",
       "    </tr>\n",
       "  </tbody>\n",
       "</table>\n",
       "</div>"
      ],
      "text/plain": [
       "  store_item_name    client_id        Date  dollar_spent\n",
       "0          pack_a  pac2dp471ap  2015-12-02          0.99\n",
       "1          pack_a  p6718p11e7p  2015-12-08          0.99\n",
       "2        bundle_9  pczbap4facp  2015-11-23         18.50\n",
       "3          pack_a  p606cp4fe8p  2015-11-25          0.99\n",
       "4          pack_b  pc06ep11e6p  2015-11-18          1.20"
      ]
     },
     "execution_count": 119,
     "metadata": {},
     "output_type": "execute_result"
    }
   ],
   "source": [
    "sales.head()"
   ]
  },
  {
   "cell_type": "code",
   "execution_count": 120,
   "metadata": {
    "collapsed": false,
    "deletable": true,
    "editable": true
   },
   "outputs": [
    {
     "name": "stdout",
     "output_type": "stream",
     "text": [
      "<class 'pandas.core.frame.DataFrame'>\n",
      "RangeIndex: 5936 entries, 0 to 5935\n",
      "Data columns (total 4 columns):\n",
      "store_item_name    5936 non-null object\n",
      "client_id          5936 non-null object\n",
      "Date               5936 non-null object\n",
      "dollar_spent       5936 non-null float64\n",
      "dtypes: float64(1), object(3)\n",
      "memory usage: 185.6+ KB\n"
     ]
    }
   ],
   "source": [
    "sales.info()"
   ]
  },
  {
   "cell_type": "markdown",
   "metadata": {
    "deletable": true,
    "editable": true
   },
   "source": [
    "Same procedure for the Sales table"
   ]
  },
  {
   "cell_type": "code",
   "execution_count": 121,
   "metadata": {
    "collapsed": true,
    "deletable": true,
    "editable": true
   },
   "outputs": [],
   "source": [
    "sales = sales.replace('2015-11-31', np.nan).dropna()"
   ]
  },
  {
   "cell_type": "code",
   "execution_count": 122,
   "metadata": {
    "collapsed": false,
    "deletable": true,
    "editable": true
   },
   "outputs": [],
   "source": [
    "sales['Date'] = pd.to_datetime(sales['Date'])"
   ]
  },
  {
   "cell_type": "code",
   "execution_count": 123,
   "metadata": {
    "collapsed": false,
    "deletable": true,
    "editable": true
   },
   "outputs": [
    {
     "name": "stdout",
     "output_type": "stream",
     "text": [
      "<class 'pandas.core.frame.DataFrame'>\n",
      "Int64Index: 5733 entries, 0 to 5935\n",
      "Data columns (total 4 columns):\n",
      "store_item_name    5733 non-null object\n",
      "client_id          5733 non-null object\n",
      "Date               5733 non-null datetime64[ns]\n",
      "dollar_spent       5733 non-null float64\n",
      "dtypes: datetime64[ns](1), float64(1), object(2)\n",
      "memory usage: 223.9+ KB\n"
     ]
    }
   ],
   "source": [
    "sales.info()"
   ]
  },
  {
   "cell_type": "markdown",
   "metadata": {
    "deletable": true,
    "editable": true
   },
   "source": [
    "#### Checking for missing values"
   ]
  },
  {
   "cell_type": "code",
   "execution_count": 124,
   "metadata": {
    "collapsed": true,
    "deletable": true,
    "editable": true
   },
   "outputs": [],
   "source": [
    "# Function to calculate missing values by column# Funct \n",
    "def missing_values_table(df):\n",
    "        # Total missing values\n",
    "        mis_val = df.isnull().sum()\n",
    "        \n",
    "        # Percentage of missing values\n",
    "        mis_val_percent = 100 * df.isnull().sum() / len(df)\n",
    "        \n",
    "        # Make a table with the results\n",
    "        mis_val_table = pd.concat([mis_val, mis_val_percent], axis=1)\n",
    "        \n",
    "        # Rename the columns\n",
    "        mis_val_table_ren_columns = mis_val_table.rename(\n",
    "        columns = {0 : 'Missing Values', 1 : '% of Total Values'})\n",
    "        \n",
    "        # Sort the table by percentage of missing descending\n",
    "        mis_val_table_ren_columns = mis_val_table_ren_columns[\n",
    "            mis_val_table_ren_columns.iloc[:,1] != 0].sort_values(\n",
    "        '% of Total Values', ascending=False).round(1)\n",
    "        \n",
    "        # Print some summary information\n",
    "        print (\"Your selected dataframe has \" + str(df.shape[1]) + \" columns.\\n\"      \n",
    "            \"There are \" + str(mis_val_table_ren_columns.shape[0]) +\n",
    "              \" columns that have missing values.\")\n",
    "        \n",
    "        # Return the dataframe with missing information\n",
    "        return mis_val_table_ren_columns"
   ]
  },
  {
   "cell_type": "code",
   "execution_count": 125,
   "metadata": {
    "collapsed": false,
    "deletable": true,
    "editable": true
   },
   "outputs": [
    {
     "name": "stdout",
     "output_type": "stream",
     "text": [
      "Your selected dataframe has 6 columns.\n",
      "There are 0 columns that have missing values.\n"
     ]
    },
    {
     "data": {
      "text/html": [
       "<div>\n",
       "<style scoped>\n",
       "    .dataframe tbody tr th:only-of-type {\n",
       "        vertical-align: middle;\n",
       "    }\n",
       "\n",
       "    .dataframe tbody tr th {\n",
       "        vertical-align: top;\n",
       "    }\n",
       "\n",
       "    .dataframe thead th {\n",
       "        text-align: right;\n",
       "    }\n",
       "</style>\n",
       "<table border=\"1\" class=\"dataframe\">\n",
       "  <thead>\n",
       "    <tr style=\"text-align: right;\">\n",
       "      <th></th>\n",
       "      <th>Missing Values</th>\n",
       "      <th>% of Total Values</th>\n",
       "    </tr>\n",
       "  </thead>\n",
       "  <tbody>\n",
       "  </tbody>\n",
       "</table>\n",
       "</div>"
      ],
      "text/plain": [
       "Empty DataFrame\n",
       "Columns: [Missing Values, % of Total Values]\n",
       "Index: []"
      ]
     },
     "execution_count": 125,
     "metadata": {},
     "output_type": "execute_result"
    }
   ],
   "source": [
    "# Missing values statistics\n",
    "missing_values = missing_values_table(play)\n",
    "missing_values.head()"
   ]
  },
  {
   "cell_type": "code",
   "execution_count": 126,
   "metadata": {
    "collapsed": false,
    "deletable": true,
    "editable": true
   },
   "outputs": [
    {
     "name": "stdout",
     "output_type": "stream",
     "text": [
      "Your selected dataframe has 4 columns.\n",
      "There are 0 columns that have missing values.\n"
     ]
    },
    {
     "data": {
      "text/html": [
       "<div>\n",
       "<style scoped>\n",
       "    .dataframe tbody tr th:only-of-type {\n",
       "        vertical-align: middle;\n",
       "    }\n",
       "\n",
       "    .dataframe tbody tr th {\n",
       "        vertical-align: top;\n",
       "    }\n",
       "\n",
       "    .dataframe thead th {\n",
       "        text-align: right;\n",
       "    }\n",
       "</style>\n",
       "<table border=\"1\" class=\"dataframe\">\n",
       "  <thead>\n",
       "    <tr style=\"text-align: right;\">\n",
       "      <th></th>\n",
       "      <th>Missing Values</th>\n",
       "      <th>% of Total Values</th>\n",
       "    </tr>\n",
       "  </thead>\n",
       "  <tbody>\n",
       "  </tbody>\n",
       "</table>\n",
       "</div>"
      ],
      "text/plain": [
       "Empty DataFrame\n",
       "Columns: [Missing Values, % of Total Values]\n",
       "Index: []"
      ]
     },
     "execution_count": 126,
     "metadata": {},
     "output_type": "execute_result"
    }
   ],
   "source": [
    "# Missing values statistics\n",
    "missing_values = missing_values_table(sales)\n",
    "missing_values.head()"
   ]
  },
  {
   "cell_type": "markdown",
   "metadata": {
    "deletable": true,
    "editable": true
   },
   "source": [
    "No missing values!!!"
   ]
  },
  {
   "cell_type": "markdown",
   "metadata": {
    "deletable": true,
    "editable": true
   },
   "source": [
    "### Question A"
   ]
  },
  {
   "cell_type": "markdown",
   "metadata": {
    "deletable": true,
    "editable": true
   },
   "source": [
    "- __Daily Active User* segmented by platform__"
   ]
  },
  {
   "cell_type": "code",
   "execution_count": 127,
   "metadata": {
    "collapsed": false,
    "deletable": true,
    "editable": true
   },
   "outputs": [
    {
     "data": {
      "text/html": [
       "<div>\n",
       "<style scoped>\n",
       "    .dataframe tbody tr th:only-of-type {\n",
       "        vertical-align: middle;\n",
       "    }\n",
       "\n",
       "    .dataframe tbody tr th {\n",
       "        vertical-align: top;\n",
       "    }\n",
       "\n",
       "    .dataframe thead th {\n",
       "        text-align: right;\n",
       "    }\n",
       "</style>\n",
       "<table border=\"1\" class=\"dataframe\">\n",
       "  <thead>\n",
       "    <tr style=\"text-align: right;\">\n",
       "      <th></th>\n",
       "      <th>Date</th>\n",
       "      <th>Platform</th>\n",
       "      <th>client_id</th>\n",
       "    </tr>\n",
       "  </thead>\n",
       "  <tbody>\n",
       "    <tr>\n",
       "      <th>0</th>\n",
       "      <td>2015-11-12</td>\n",
       "      <td>PC</td>\n",
       "      <td>236</td>\n",
       "    </tr>\n",
       "    <tr>\n",
       "      <th>1</th>\n",
       "      <td>2015-11-12</td>\n",
       "      <td>PS4</td>\n",
       "      <td>115</td>\n",
       "    </tr>\n",
       "    <tr>\n",
       "      <th>2</th>\n",
       "      <td>2015-11-13</td>\n",
       "      <td>PC</td>\n",
       "      <td>246</td>\n",
       "    </tr>\n",
       "    <tr>\n",
       "      <th>3</th>\n",
       "      <td>2015-11-13</td>\n",
       "      <td>PS4</td>\n",
       "      <td>133</td>\n",
       "    </tr>\n",
       "    <tr>\n",
       "      <th>4</th>\n",
       "      <td>2015-11-14</td>\n",
       "      <td>PC</td>\n",
       "      <td>250</td>\n",
       "    </tr>\n",
       "  </tbody>\n",
       "</table>\n",
       "</div>"
      ],
      "text/plain": [
       "        Date Platform  client_id\n",
       "0 2015-11-12       PC        236\n",
       "1 2015-11-12      PS4        115\n",
       "2 2015-11-13       PC        246\n",
       "3 2015-11-13      PS4        133\n",
       "4 2015-11-14       PC        250"
      ]
     },
     "execution_count": 127,
     "metadata": {},
     "output_type": "execute_result"
    }
   ],
   "source": [
    "#play.groupby(['Date', 'Platform']).count()\n",
    "DAU=play.groupby(['Date', 'Platform'],as_index=False).agg({'client_id': lambda x: x.nunique()}) \n",
    "DAU.head()                                         "
   ]
  },
  {
   "cell_type": "code",
   "execution_count": 128,
   "metadata": {
    "collapsed": true,
    "deletable": true,
    "editable": true
   },
   "outputs": [],
   "source": [
    "DAU.set_index('Platform', inplace=True)"
   ]
  },
  {
   "cell_type": "code",
   "execution_count": 129,
   "metadata": {
    "collapsed": false,
    "deletable": true,
    "editable": true
   },
   "outputs": [
    {
     "data": {
      "image/png": "[encoded data removed]",
      "text/plain": [
       "<Figure size 432x288 with 1 Axes>"
      ]
     },
     "metadata": {},
     "output_type": "display_data"
    }
   ],
   "source": [
    "plt.plot( 'Date', 'client_id', data=DAU.loc['PC'], marker='o', markerfacecolor='blue', markersize=10, color='skyblue', linewidth=2, label=\"PC\")\n",
    "plt.plot( 'Date', 'client_id', data=DAU.loc['PS4'], marker='o', markerfacecolor='orange',color='olive', markersize=10, linewidth=2, label=\"PS4\" )\n",
    "#plt.plot( 'x', 'y3', data=df, marker='', color='olive', linewidth=2, linestyle='dashed', label=\"toto\")\n",
    "plt.legend()\n",
    "plt.title('DAU');\n"
   ]
  },
  {
   "cell_type": "markdown",
   "metadata": {},
   "source": [
    "As per table and plot from above, the number of daily active users on PC Platform is very high compared with the number of the number of daily active users on PS4 Platform (more than 2 times) at he begining of the period, whereas the number for both platforms are getting close to an equal number by the end of the period."
   ]
  },
  {
   "cell_type": "markdown",
   "metadata": {},
   "source": [
    "### Visualizing Furniture Sales Time Series Data"
   ]
  },
  {
   "cell_type": "code",
   "execution_count": 130,
   "metadata": {
    "collapsed": false
   },
   "outputs": [
    {
     "data": {
      "text/plain": [
       "Date         0\n",
       "client_id    0\n",
       "dtype: int64"
      ]
     },
     "execution_count": 130,
     "metadata": {},
     "output_type": "execute_result"
    }
   ],
   "source": [
    "DAU.isnull().sum()"
   ]
  },
  {
   "cell_type": "code",
   "execution_count": 131,
   "metadata": {
    "collapsed": true
   },
   "outputs": [],
   "source": [
    "DAU.set_index('Date', inplace=True)"
   ]
  },
  {
   "cell_type": "code",
   "execution_count": 135,
   "metadata": {
    "collapsed": false
   },
   "outputs": [
    {
     "data": {
      "text/plain": [
       "17996"
      ]
     },
     "execution_count": 135,
     "metadata": {},
     "output_type": "execute_result"
    }
   ],
   "source": [
    "play.groupby('Platform')['client_id'].count()['PC']"
   ]
  },
  {
   "cell_type": "code",
   "execution_count": 140,
   "metadata": {
    "collapsed": false
   },
   "outputs": [
    {
     "data": {
      "image/png": "[encoded data removed]",
      "text/plain": [
       "<Figure size 1296x576 with 4 Axes>"
      ]
     },
     "metadata": {},
     "output_type": "display_data"
    }
   ],
   "source": [
    "import statsmodels.api as sm\n",
    "from pylab import rcParams\n",
    "rcParams['figure.figsize'] = 18, 8\n",
    "decomposition = sm.tsa.seasonal_decompose(DAU, model='\"multiplicative',  freq=10)\n",
    "fig = decomposition.plot()\n",
    "plt.show()"
   ]
  },
  {
   "cell_type": "markdown",
   "metadata": {
    "deletable": true,
    "editable": true
   },
   "source": [
    "Some distinguishable patterns appear when we plot the data. The time-series has seasonality pattern, such as customers are at average of 100 all month. There is always an upward trend within any begining of the month."
   ]
  },
  {
   "cell_type": "code",
   "execution_count": 142,
   "metadata": {
    "collapsed": true
   },
   "outputs": [],
   "source": [
    "import matplotlib.animation as animation\n",
    "%matplotlib notebook"
   ]
  },
  {
   "cell_type": "code",
   "execution_count": 143,
   "metadata": {
    "collapsed": true
   },
   "outputs": [],
   "source": [
    "def get_data(table,rownum,title):\n",
    "    data = pd.DataFrame(table.loc[rownum][2:]).astype(float)\n",
    "    data.columns = {title}\n",
    "    return data"
   ]
  },
  {
   "cell_type": "code",
   "execution_count": 145,
   "metadata": {
    "collapsed": true
   },
   "outputs": [],
   "source": [
    "DAU=play.groupby(['Date', 'Platform'],as_index=False).agg({'client_id': lambda x: x.nunique()})"
   ]
  },
  {
   "cell_type": "code",
   "execution_count": 150,
   "metadata": {
    "collapsed": false
   },
   "outputs": [
    {
     "ename": "KeyError",
     "evalue": "'id'",
     "output_type": "error",
     "traceback": [
      "\u001b[1;31m---------------------------------------------------------------------------\u001b[0m",
      "\u001b[1;31mKeyError\u001b[0m                                  Traceback (most recent call last)",
      "\u001b[1;32m~\\Anaconda3\\lib\\site-packages\\pandas\\core\\indexes\\base.py\u001b[0m in \u001b[0;36mget_loc\u001b[1;34m(self, key, method, tolerance)\u001b[0m\n\u001b[0;32m   3063\u001b[0m             \u001b[1;32mtry\u001b[0m\u001b[1;33m:\u001b[0m\u001b[1;33m\u001b[0m\u001b[0m\n\u001b[1;32m-> 3064\u001b[1;33m                 \u001b[1;32mreturn\u001b[0m \u001b[0mself\u001b[0m\u001b[1;33m.\u001b[0m\u001b[0m_engine\u001b[0m\u001b[1;33m.\u001b[0m\u001b[0mget_loc\u001b[0m\u001b[1;33m(\u001b[0m\u001b[0mkey\u001b[0m\u001b[1;33m)\u001b[0m\u001b[1;33m\u001b[0m\u001b[0m\n\u001b[0m\u001b[0;32m   3065\u001b[0m             \u001b[1;32mexcept\u001b[0m \u001b[0mKeyError\u001b[0m\u001b[1;33m:\u001b[0m\u001b[1;33m\u001b[0m\u001b[0m\n",
      "\u001b[1;32mpandas/_libs/index.pyx\u001b[0m in \u001b[0;36mpandas._libs.index.IndexEngine.get_loc\u001b[1;34m()\u001b[0m\n",
      "\u001b[1;32mpandas/_libs/index.pyx\u001b[0m in \u001b[0;36mpandas._libs.index.IndexEngine.get_loc\u001b[1;34m()\u001b[0m\n",
      "\u001b[1;32mpandas/_libs/hashtable_class_helper.pxi\u001b[0m in \u001b[0;36mpandas._libs.hashtable.PyObjectHashTable.get_item\u001b[1;34m()\u001b[0m\n",
      "\u001b[1;32mpandas/_libs/hashtable_class_helper.pxi\u001b[0m in \u001b[0;36mpandas._libs.hashtable.PyObjectHashTable.get_item\u001b[1;34m()\u001b[0m\n",
      "\u001b[1;31mKeyError\u001b[0m: 'id'",
      "\nDuring handling of the above exception, another exception occurred:\n",
      "\u001b[1;31mKeyError\u001b[0m                                  Traceback (most recent call last)",
      "\u001b[1;32m<ipython-input-150-893a3a0af054>\u001b[0m in \u001b[0;36m<module>\u001b[1;34m()\u001b[0m\n\u001b[0;32m      3\u001b[0m \u001b[0md\u001b[0m \u001b[1;33m=\u001b[0m \u001b[0mget_data\u001b[0m\u001b[1;33m(\u001b[0m\u001b[0mDAU\u001b[0m\u001b[1;33m,\u001b[0m\u001b[1;36m3\u001b[0m\u001b[1;33m,\u001b[0m\u001b[0mtitle\u001b[0m\u001b[1;33m)\u001b[0m\u001b[1;33m\u001b[0m\u001b[0m\n\u001b[0;32m      4\u001b[0m \u001b[0mx\u001b[0m \u001b[1;33m=\u001b[0m \u001b[0mnp\u001b[0m\u001b[1;33m.\u001b[0m\u001b[0marray\u001b[0m\u001b[1;33m(\u001b[0m\u001b[0md\u001b[0m\u001b[1;33m.\u001b[0m\u001b[0mindex\u001b[0m\u001b[1;33m)\u001b[0m\u001b[1;33m\u001b[0m\u001b[0m\n\u001b[1;32m----> 5\u001b[1;33m \u001b[0my\u001b[0m \u001b[1;33m=\u001b[0m \u001b[0mnp\u001b[0m\u001b[1;33m.\u001b[0m\u001b[0marray\u001b[0m\u001b[1;33m(\u001b[0m\u001b[0md\u001b[0m\u001b[1;33m[\u001b[0m\u001b[1;34m'id'\u001b[0m\u001b[1;33m]\u001b[0m\u001b[1;33m)\u001b[0m\u001b[1;33m\u001b[0m\u001b[0m\n\u001b[0m\u001b[0;32m      6\u001b[0m \u001b[0moverdose\u001b[0m \u001b[1;33m=\u001b[0m \u001b[0mpd\u001b[0m\u001b[1;33m.\u001b[0m\u001b[0mDataFrame\u001b[0m\u001b[1;33m(\u001b[0m\u001b[0my\u001b[0m\u001b[1;33m,\u001b[0m\u001b[0mx\u001b[0m\u001b[1;33m)\u001b[0m\u001b[1;33m\u001b[0m\u001b[0m\n\u001b[0;32m      7\u001b[0m \u001b[1;31m#XN,YN = augment(x,y,10)\u001b[0m\u001b[1;33m\u001b[0m\u001b[1;33m\u001b[0m\u001b[0m\n",
      "\u001b[1;32m~\\Anaconda3\\lib\\site-packages\\pandas\\core\\frame.py\u001b[0m in \u001b[0;36m__getitem__\u001b[1;34m(self, key)\u001b[0m\n\u001b[0;32m   2686\u001b[0m             \u001b[1;32mreturn\u001b[0m \u001b[0mself\u001b[0m\u001b[1;33m.\u001b[0m\u001b[0m_getitem_multilevel\u001b[0m\u001b[1;33m(\u001b[0m\u001b[0mkey\u001b[0m\u001b[1;33m)\u001b[0m\u001b[1;33m\u001b[0m\u001b[0m\n\u001b[0;32m   2687\u001b[0m         \u001b[1;32melse\u001b[0m\u001b[1;33m:\u001b[0m\u001b[1;33m\u001b[0m\u001b[0m\n\u001b[1;32m-> 2688\u001b[1;33m             \u001b[1;32mreturn\u001b[0m \u001b[0mself\u001b[0m\u001b[1;33m.\u001b[0m\u001b[0m_getitem_column\u001b[0m\u001b[1;33m(\u001b[0m\u001b[0mkey\u001b[0m\u001b[1;33m)\u001b[0m\u001b[1;33m\u001b[0m\u001b[0m\n\u001b[0m\u001b[0;32m   2689\u001b[0m \u001b[1;33m\u001b[0m\u001b[0m\n\u001b[0;32m   2690\u001b[0m     \u001b[1;32mdef\u001b[0m \u001b[0m_getitem_column\u001b[0m\u001b[1;33m(\u001b[0m\u001b[0mself\u001b[0m\u001b[1;33m,\u001b[0m \u001b[0mkey\u001b[0m\u001b[1;33m)\u001b[0m\u001b[1;33m:\u001b[0m\u001b[1;33m\u001b[0m\u001b[0m\n",
      "\u001b[1;32m~\\Anaconda3\\lib\\site-packages\\pandas\\core\\frame.py\u001b[0m in \u001b[0;36m_getitem_column\u001b[1;34m(self, key)\u001b[0m\n\u001b[0;32m   2693\u001b[0m         \u001b[1;31m# get column\u001b[0m\u001b[1;33m\u001b[0m\u001b[1;33m\u001b[0m\u001b[0m\n\u001b[0;32m   2694\u001b[0m         \u001b[1;32mif\u001b[0m \u001b[0mself\u001b[0m\u001b[1;33m.\u001b[0m\u001b[0mcolumns\u001b[0m\u001b[1;33m.\u001b[0m\u001b[0mis_unique\u001b[0m\u001b[1;33m:\u001b[0m\u001b[1;33m\u001b[0m\u001b[0m\n\u001b[1;32m-> 2695\u001b[1;33m             \u001b[1;32mreturn\u001b[0m \u001b[0mself\u001b[0m\u001b[1;33m.\u001b[0m\u001b[0m_get_item_cache\u001b[0m\u001b[1;33m(\u001b[0m\u001b[0mkey\u001b[0m\u001b[1;33m)\u001b[0m\u001b[1;33m\u001b[0m\u001b[0m\n\u001b[0m\u001b[0;32m   2696\u001b[0m \u001b[1;33m\u001b[0m\u001b[0m\n\u001b[0;32m   2697\u001b[0m         \u001b[1;31m# duplicate columns & possible reduce dimensionality\u001b[0m\u001b[1;33m\u001b[0m\u001b[1;33m\u001b[0m\u001b[0m\n",
      "\u001b[1;32m~\\Anaconda3\\lib\\site-packages\\pandas\\core\\generic.py\u001b[0m in \u001b[0;36m_get_item_cache\u001b[1;34m(self, item)\u001b[0m\n\u001b[0;32m   2484\u001b[0m         \u001b[0mres\u001b[0m \u001b[1;33m=\u001b[0m \u001b[0mcache\u001b[0m\u001b[1;33m.\u001b[0m\u001b[0mget\u001b[0m\u001b[1;33m(\u001b[0m\u001b[0mitem\u001b[0m\u001b[1;33m)\u001b[0m\u001b[1;33m\u001b[0m\u001b[0m\n\u001b[0;32m   2485\u001b[0m         \u001b[1;32mif\u001b[0m \u001b[0mres\u001b[0m \u001b[1;32mis\u001b[0m \u001b[1;32mNone\u001b[0m\u001b[1;33m:\u001b[0m\u001b[1;33m\u001b[0m\u001b[0m\n\u001b[1;32m-> 2486\u001b[1;33m             \u001b[0mvalues\u001b[0m \u001b[1;33m=\u001b[0m \u001b[0mself\u001b[0m\u001b[1;33m.\u001b[0m\u001b[0m_data\u001b[0m\u001b[1;33m.\u001b[0m\u001b[0mget\u001b[0m\u001b[1;33m(\u001b[0m\u001b[0mitem\u001b[0m\u001b[1;33m)\u001b[0m\u001b[1;33m\u001b[0m\u001b[0m\n\u001b[0m\u001b[0;32m   2487\u001b[0m             \u001b[0mres\u001b[0m \u001b[1;33m=\u001b[0m \u001b[0mself\u001b[0m\u001b[1;33m.\u001b[0m\u001b[0m_box_item_values\u001b[0m\u001b[1;33m(\u001b[0m\u001b[0mitem\u001b[0m\u001b[1;33m,\u001b[0m \u001b[0mvalues\u001b[0m\u001b[1;33m)\u001b[0m\u001b[1;33m\u001b[0m\u001b[0m\n\u001b[0;32m   2488\u001b[0m             \u001b[0mcache\u001b[0m\u001b[1;33m[\u001b[0m\u001b[0mitem\u001b[0m\u001b[1;33m]\u001b[0m \u001b[1;33m=\u001b[0m \u001b[0mres\u001b[0m\u001b[1;33m\u001b[0m\u001b[0m\n",
      "\u001b[1;32m~\\Anaconda3\\lib\\site-packages\\pandas\\core\\internals.py\u001b[0m in \u001b[0;36mget\u001b[1;34m(self, item, fastpath)\u001b[0m\n\u001b[0;32m   4113\u001b[0m \u001b[1;33m\u001b[0m\u001b[0m\n\u001b[0;32m   4114\u001b[0m             \u001b[1;32mif\u001b[0m \u001b[1;32mnot\u001b[0m \u001b[0misna\u001b[0m\u001b[1;33m(\u001b[0m\u001b[0mitem\u001b[0m\u001b[1;33m)\u001b[0m\u001b[1;33m:\u001b[0m\u001b[1;33m\u001b[0m\u001b[0m\n\u001b[1;32m-> 4115\u001b[1;33m                 \u001b[0mloc\u001b[0m \u001b[1;33m=\u001b[0m \u001b[0mself\u001b[0m\u001b[1;33m.\u001b[0m\u001b[0mitems\u001b[0m\u001b[1;33m.\u001b[0m\u001b[0mget_loc\u001b[0m\u001b[1;33m(\u001b[0m\u001b[0mitem\u001b[0m\u001b[1;33m)\u001b[0m\u001b[1;33m\u001b[0m\u001b[0m\n\u001b[0m\u001b[0;32m   4116\u001b[0m             \u001b[1;32melse\u001b[0m\u001b[1;33m:\u001b[0m\u001b[1;33m\u001b[0m\u001b[0m\n\u001b[0;32m   4117\u001b[0m                 \u001b[0mindexer\u001b[0m \u001b[1;33m=\u001b[0m \u001b[0mnp\u001b[0m\u001b[1;33m.\u001b[0m\u001b[0marange\u001b[0m\u001b[1;33m(\u001b[0m\u001b[0mlen\u001b[0m\u001b[1;33m(\u001b[0m\u001b[0mself\u001b[0m\u001b[1;33m.\u001b[0m\u001b[0mitems\u001b[0m\u001b[1;33m)\u001b[0m\u001b[1;33m)\u001b[0m\u001b[1;33m[\u001b[0m\u001b[0misna\u001b[0m\u001b[1;33m(\u001b[0m\u001b[0mself\u001b[0m\u001b[1;33m.\u001b[0m\u001b[0mitems\u001b[0m\u001b[1;33m)\u001b[0m\u001b[1;33m]\u001b[0m\u001b[1;33m\u001b[0m\u001b[0m\n",
      "\u001b[1;32m~\\Anaconda3\\lib\\site-packages\\pandas\\core\\indexes\\base.py\u001b[0m in \u001b[0;36mget_loc\u001b[1;34m(self, key, method, tolerance)\u001b[0m\n\u001b[0;32m   3064\u001b[0m                 \u001b[1;32mreturn\u001b[0m \u001b[0mself\u001b[0m\u001b[1;33m.\u001b[0m\u001b[0m_engine\u001b[0m\u001b[1;33m.\u001b[0m\u001b[0mget_loc\u001b[0m\u001b[1;33m(\u001b[0m\u001b[0mkey\u001b[0m\u001b[1;33m)\u001b[0m\u001b[1;33m\u001b[0m\u001b[0m\n\u001b[0;32m   3065\u001b[0m             \u001b[1;32mexcept\u001b[0m \u001b[0mKeyError\u001b[0m\u001b[1;33m:\u001b[0m\u001b[1;33m\u001b[0m\u001b[0m\n\u001b[1;32m-> 3066\u001b[1;33m                 \u001b[1;32mreturn\u001b[0m \u001b[0mself\u001b[0m\u001b[1;33m.\u001b[0m\u001b[0m_engine\u001b[0m\u001b[1;33m.\u001b[0m\u001b[0mget_loc\u001b[0m\u001b[1;33m(\u001b[0m\u001b[0mself\u001b[0m\u001b[1;33m.\u001b[0m\u001b[0m_maybe_cast_indexer\u001b[0m\u001b[1;33m(\u001b[0m\u001b[0mkey\u001b[0m\u001b[1;33m)\u001b[0m\u001b[1;33m)\u001b[0m\u001b[1;33m\u001b[0m\u001b[0m\n\u001b[0m\u001b[0;32m   3067\u001b[0m \u001b[1;33m\u001b[0m\u001b[0m\n\u001b[0;32m   3068\u001b[0m         \u001b[0mindexer\u001b[0m \u001b[1;33m=\u001b[0m \u001b[0mself\u001b[0m\u001b[1;33m.\u001b[0m\u001b[0mget_indexer\u001b[0m\u001b[1;33m(\u001b[0m\u001b[1;33m[\u001b[0m\u001b[0mkey\u001b[0m\u001b[1;33m]\u001b[0m\u001b[1;33m,\u001b[0m \u001b[0mmethod\u001b[0m\u001b[1;33m=\u001b[0m\u001b[0mmethod\u001b[0m\u001b[1;33m,\u001b[0m \u001b[0mtolerance\u001b[0m\u001b[1;33m=\u001b[0m\u001b[0mtolerance\u001b[0m\u001b[1;33m)\u001b[0m\u001b[1;33m\u001b[0m\u001b[0m\n",
      "\u001b[1;32mpandas/_libs/index.pyx\u001b[0m in \u001b[0;36mpandas._libs.index.IndexEngine.get_loc\u001b[1;34m()\u001b[0m\n",
      "\u001b[1;32mpandas/_libs/index.pyx\u001b[0m in \u001b[0;36mpandas._libs.index.IndexEngine.get_loc\u001b[1;34m()\u001b[0m\n",
      "\u001b[1;32mpandas/_libs/hashtable_class_helper.pxi\u001b[0m in \u001b[0;36mpandas._libs.hashtable.PyObjectHashTable.get_item\u001b[1;34m()\u001b[0m\n",
      "\u001b[1;32mpandas/_libs/hashtable_class_helper.pxi\u001b[0m in \u001b[0;36mpandas._libs.hashtable.PyObjectHashTable.get_item\u001b[1;34m()\u001b[0m\n",
      "\u001b[1;31mKeyError\u001b[0m: 'id'"
     ]
    }
   ],
   "source": [
    "%matplotlib notebook\n",
    "title = 'DAU'\n",
    "d = get_data(DAU,3,title)\n",
    "x = np.array(d.index)\n",
    "y = np.array(d['id'])\n",
    "overdose = pd.DataFrame(y,x)\n",
    "#XN,YN = augment(x,y,10)\n",
    "#augmented = pd.DataFrame(YN,XN)\n",
    "overdose.columns = {title}"
   ]
  },
  {
   "cell_type": "markdown",
   "metadata": {
    "deletable": true,
    "editable": true
   },
   "source": [
    " - __Daily Active Customer* segmented by platform__"
   ]
  },
  {
   "cell_type": "code",
   "execution_count": 935,
   "metadata": {
    "collapsed": false,
    "deletable": true,
    "editable": true
   },
   "outputs": [],
   "source": [
    "sales.rename(columns={'Date':'Purchase'}, inplace=True)"
   ]
  },
  {
   "cell_type": "markdown",
   "metadata": {
    "deletable": true,
    "editable": true
   },
   "source": [
    "Both tables must be merged in order to segment the DAC by platform"
   ]
  },
  {
   "cell_type": "code",
   "execution_count": 936,
   "metadata": {
    "collapsed": true,
    "deletable": true,
    "editable": true
   },
   "outputs": [],
   "source": [
    "play= play.merge(sales, on = 'client_id', how = 'left')"
   ]
  },
  {
   "cell_type": "code",
   "execution_count": 937,
   "metadata": {
    "collapsed": false,
    "deletable": true,
    "editable": true
   },
   "outputs": [
    {
     "data": {
      "text/html": [
       "<div>\n",
       "<style scoped>\n",
       "    .dataframe tbody tr th:only-of-type {\n",
       "        vertical-align: middle;\n",
       "    }\n",
       "\n",
       "    .dataframe tbody tr th {\n",
       "        vertical-align: top;\n",
       "    }\n",
       "\n",
       "    .dataframe thead th {\n",
       "        text-align: right;\n",
       "    }\n",
       "</style>\n",
       "<table border=\"1\" class=\"dataframe\">\n",
       "  <thead>\n",
       "    <tr style=\"text-align: right;\">\n",
       "      <th></th>\n",
       "      <th>Date</th>\n",
       "      <th>Platform</th>\n",
       "      <th>build_version</th>\n",
       "      <th>client_id</th>\n",
       "      <th>outcome</th>\n",
       "      <th>experience_points</th>\n",
       "      <th>store_item_name</th>\n",
       "      <th>Purchase</th>\n",
       "      <th>dollar_spent</th>\n",
       "    </tr>\n",
       "  </thead>\n",
       "  <tbody>\n",
       "    <tr>\n",
       "      <th>0</th>\n",
       "      <td>2015-12-08</td>\n",
       "      <td>PC</td>\n",
       "      <td>1.0.2</td>\n",
       "      <td>pczzdp11e6p</td>\n",
       "      <td>win</td>\n",
       "      <td>295.636308</td>\n",
       "      <td>pack_c</td>\n",
       "      <td>2015-12-02</td>\n",
       "      <td>1.99</td>\n",
       "    </tr>\n",
       "    <tr>\n",
       "      <th>1</th>\n",
       "      <td>2015-12-08</td>\n",
       "      <td>PC</td>\n",
       "      <td>1.0.2</td>\n",
       "      <td>pczzdp11e6p</td>\n",
       "      <td>win</td>\n",
       "      <td>295.636308</td>\n",
       "      <td>pack_a</td>\n",
       "      <td>2015-12-08</td>\n",
       "      <td>0.99</td>\n",
       "    </tr>\n",
       "    <tr>\n",
       "      <th>2</th>\n",
       "      <td>2015-12-08</td>\n",
       "      <td>PC</td>\n",
       "      <td>1.0.2</td>\n",
       "      <td>pczzdp11e6p</td>\n",
       "      <td>win</td>\n",
       "      <td>295.636308</td>\n",
       "      <td>pack_c</td>\n",
       "      <td>2015-11-19</td>\n",
       "      <td>1.99</td>\n",
       "    </tr>\n",
       "    <tr>\n",
       "      <th>3</th>\n",
       "      <td>2015-12-08</td>\n",
       "      <td>PC</td>\n",
       "      <td>1.0.2</td>\n",
       "      <td>pczzdp11e6p</td>\n",
       "      <td>win</td>\n",
       "      <td>295.636308</td>\n",
       "      <td>bundle_1</td>\n",
       "      <td>2015-12-05</td>\n",
       "      <td>15.99</td>\n",
       "    </tr>\n",
       "    <tr>\n",
       "      <th>4</th>\n",
       "      <td>2015-12-08</td>\n",
       "      <td>PC</td>\n",
       "      <td>1.0.2</td>\n",
       "      <td>pczzdp11e6p</td>\n",
       "      <td>win</td>\n",
       "      <td>295.636308</td>\n",
       "      <td>pack_a</td>\n",
       "      <td>2015-12-11</td>\n",
       "      <td>0.99</td>\n",
       "    </tr>\n",
       "  </tbody>\n",
       "</table>\n",
       "</div>"
      ],
      "text/plain": [
       "        Date Platform build_version    client_id outcome  experience_points  \\\n",
       "0 2015-12-08       PC         1.0.2  pczzdp11e6p     win         295.636308   \n",
       "1 2015-12-08       PC         1.0.2  pczzdp11e6p     win         295.636308   \n",
       "2 2015-12-08       PC         1.0.2  pczzdp11e6p     win         295.636308   \n",
       "3 2015-12-08       PC         1.0.2  pczzdp11e6p     win         295.636308   \n",
       "4 2015-12-08       PC         1.0.2  pczzdp11e6p     win         295.636308   \n",
       "\n",
       "  store_item_name   Purchase  dollar_spent  \n",
       "0          pack_c 2015-12-02          1.99  \n",
       "1          pack_a 2015-12-08          0.99  \n",
       "2          pack_c 2015-11-19          1.99  \n",
       "3        bundle_1 2015-12-05         15.99  \n",
       "4          pack_a 2015-12-11          0.99  "
      ]
     },
     "execution_count": 937,
     "metadata": {},
     "output_type": "execute_result"
    }
   ],
   "source": [
    "play.head()"
   ]
  },
  {
   "cell_type": "code",
   "execution_count": 938,
   "metadata": {
    "collapsed": false,
    "deletable": true,
    "editable": true
   },
   "outputs": [
    {
     "name": "stdout",
     "output_type": "stream",
     "text": [
      "<class 'pandas.core.frame.DataFrame'>\n",
      "Int64Index: 80543 entries, 0 to 80542\n",
      "Data columns (total 9 columns):\n",
      "Date                 80543 non-null datetime64[ns]\n",
      "Platform             80543 non-null object\n",
      "build_version        80543 non-null object\n",
      "client_id            80543 non-null object\n",
      "outcome              80543 non-null object\n",
      "experience_points    80543 non-null float64\n",
      "store_item_name      68504 non-null object\n",
      "Purchase             68504 non-null datetime64[ns]\n",
      "dollar_spent         68504 non-null float64\n",
      "dtypes: datetime64[ns](2), float64(2), object(5)\n",
      "memory usage: 6.1+ MB\n"
     ]
    }
   ],
   "source": [
    "play.info()"
   ]
  },
  {
   "cell_type": "markdown",
   "metadata": {
    "deletable": true,
    "editable": true
   },
   "source": [
    "__Checking for missing values again, since we merged the two tables which have different total number of entries.__"
   ]
  },
  {
   "cell_type": "code",
   "execution_count": 939,
   "metadata": {
    "collapsed": false,
    "deletable": true,
    "editable": true
   },
   "outputs": [
    {
     "name": "stdout",
     "output_type": "stream",
     "text": [
      "Your selected dataframe has 9 columns.\n",
      "There are 3 columns that have missing values.\n"
     ]
    },
    {
     "data": {
      "text/html": [
       "<div>\n",
       "<style scoped>\n",
       "    .dataframe tbody tr th:only-of-type {\n",
       "        vertical-align: middle;\n",
       "    }\n",
       "\n",
       "    .dataframe tbody tr th {\n",
       "        vertical-align: top;\n",
       "    }\n",
       "\n",
       "    .dataframe thead th {\n",
       "        text-align: right;\n",
       "    }\n",
       "</style>\n",
       "<table border=\"1\" class=\"dataframe\">\n",
       "  <thead>\n",
       "    <tr style=\"text-align: right;\">\n",
       "      <th></th>\n",
       "      <th>Missing Values</th>\n",
       "      <th>% of Total Values</th>\n",
       "    </tr>\n",
       "  </thead>\n",
       "  <tbody>\n",
       "    <tr>\n",
       "      <th>store_item_name</th>\n",
       "      <td>12039</td>\n",
       "      <td>14.9</td>\n",
       "    </tr>\n",
       "    <tr>\n",
       "      <th>Purchase</th>\n",
       "      <td>12039</td>\n",
       "      <td>14.9</td>\n",
       "    </tr>\n",
       "    <tr>\n",
       "      <th>dollar_spent</th>\n",
       "      <td>12039</td>\n",
       "      <td>14.9</td>\n",
       "    </tr>\n",
       "  </tbody>\n",
       "</table>\n",
       "</div>"
      ],
      "text/plain": [
       "                 Missing Values  % of Total Values\n",
       "store_item_name           12039               14.9\n",
       "Purchase                  12039               14.9\n",
       "dollar_spent              12039               14.9"
      ]
     },
     "execution_count": 939,
     "metadata": {},
     "output_type": "execute_result"
    }
   ],
   "source": [
    "missing_values = missing_values_table(play)\n",
    "missing_values.head()"
   ]
  },
  {
   "cell_type": "markdown",
   "metadata": {
    "deletable": true,
    "editable": true
   },
   "source": [
    "Missing values are normal after aligning two tables with different number of entries."
   ]
  },
  {
   "cell_type": "code",
   "execution_count": 940,
   "metadata": {
    "collapsed": false,
    "deletable": true,
    "editable": true
   },
   "outputs": [
    {
     "data": {
      "text/html": [
       "<div>\n",
       "<style scoped>\n",
       "    .dataframe tbody tr th:only-of-type {\n",
       "        vertical-align: middle;\n",
       "    }\n",
       "\n",
       "    .dataframe tbody tr th {\n",
       "        vertical-align: top;\n",
       "    }\n",
       "\n",
       "    .dataframe thead th {\n",
       "        text-align: right;\n",
       "    }\n",
       "</style>\n",
       "<table border=\"1\" class=\"dataframe\">\n",
       "  <thead>\n",
       "    <tr style=\"text-align: right;\">\n",
       "      <th></th>\n",
       "      <th>Date</th>\n",
       "      <th>Platform</th>\n",
       "      <th>build_version</th>\n",
       "      <th>client_id</th>\n",
       "      <th>outcome</th>\n",
       "      <th>experience_points</th>\n",
       "      <th>store_item_name</th>\n",
       "      <th>Purchase</th>\n",
       "      <th>dollar_spent</th>\n",
       "    </tr>\n",
       "  </thead>\n",
       "  <tbody>\n",
       "    <tr>\n",
       "      <th>0</th>\n",
       "      <td>2015-12-08</td>\n",
       "      <td>PC</td>\n",
       "      <td>1.0.2</td>\n",
       "      <td>pczzdp11e6p</td>\n",
       "      <td>win</td>\n",
       "      <td>295.636308</td>\n",
       "      <td>pack_c</td>\n",
       "      <td>2015-12-02</td>\n",
       "      <td>1.99</td>\n",
       "    </tr>\n",
       "    <tr>\n",
       "      <th>1</th>\n",
       "      <td>2015-12-08</td>\n",
       "      <td>PC</td>\n",
       "      <td>1.0.2</td>\n",
       "      <td>pczzdp11e6p</td>\n",
       "      <td>win</td>\n",
       "      <td>295.636308</td>\n",
       "      <td>pack_a</td>\n",
       "      <td>2015-12-08</td>\n",
       "      <td>0.99</td>\n",
       "    </tr>\n",
       "    <tr>\n",
       "      <th>2</th>\n",
       "      <td>2015-12-08</td>\n",
       "      <td>PC</td>\n",
       "      <td>1.0.2</td>\n",
       "      <td>pczzdp11e6p</td>\n",
       "      <td>win</td>\n",
       "      <td>295.636308</td>\n",
       "      <td>pack_c</td>\n",
       "      <td>2015-11-19</td>\n",
       "      <td>1.99</td>\n",
       "    </tr>\n",
       "    <tr>\n",
       "      <th>3</th>\n",
       "      <td>2015-12-08</td>\n",
       "      <td>PC</td>\n",
       "      <td>1.0.2</td>\n",
       "      <td>pczzdp11e6p</td>\n",
       "      <td>win</td>\n",
       "      <td>295.636308</td>\n",
       "      <td>bundle_1</td>\n",
       "      <td>2015-12-05</td>\n",
       "      <td>15.99</td>\n",
       "    </tr>\n",
       "    <tr>\n",
       "      <th>4</th>\n",
       "      <td>2015-12-08</td>\n",
       "      <td>PC</td>\n",
       "      <td>1.0.2</td>\n",
       "      <td>pczzdp11e6p</td>\n",
       "      <td>win</td>\n",
       "      <td>295.636308</td>\n",
       "      <td>pack_a</td>\n",
       "      <td>2015-12-11</td>\n",
       "      <td>0.99</td>\n",
       "    </tr>\n",
       "    <tr>\n",
       "      <th>5</th>\n",
       "      <td>2015-12-08</td>\n",
       "      <td>PC</td>\n",
       "      <td>1.0.2</td>\n",
       "      <td>pczzdp11e6p</td>\n",
       "      <td>win</td>\n",
       "      <td>295.636308</td>\n",
       "      <td>pack_a</td>\n",
       "      <td>2015-11-14</td>\n",
       "      <td>0.99</td>\n",
       "    </tr>\n",
       "    <tr>\n",
       "      <th>10</th>\n",
       "      <td>2015-12-04</td>\n",
       "      <td>PC</td>\n",
       "      <td>1.0.2</td>\n",
       "      <td>p9873p11e7p</td>\n",
       "      <td>lose</td>\n",
       "      <td>268.443363</td>\n",
       "      <td>pack_a</td>\n",
       "      <td>2015-11-25</td>\n",
       "      <td>0.99</td>\n",
       "    </tr>\n",
       "    <tr>\n",
       "      <th>11</th>\n",
       "      <td>2015-12-04</td>\n",
       "      <td>PC</td>\n",
       "      <td>1.0.2</td>\n",
       "      <td>p9873p11e7p</td>\n",
       "      <td>lose</td>\n",
       "      <td>268.443363</td>\n",
       "      <td>pack_a</td>\n",
       "      <td>2015-11-24</td>\n",
       "      <td>0.99</td>\n",
       "    </tr>\n",
       "    <tr>\n",
       "      <th>12</th>\n",
       "      <td>2015-12-04</td>\n",
       "      <td>PC</td>\n",
       "      <td>1.0.2</td>\n",
       "      <td>p9873p11e7p</td>\n",
       "      <td>lose</td>\n",
       "      <td>268.443363</td>\n",
       "      <td>pack_a</td>\n",
       "      <td>2015-11-14</td>\n",
       "      <td>0.99</td>\n",
       "    </tr>\n",
       "    <tr>\n",
       "      <th>13</th>\n",
       "      <td>2015-12-04</td>\n",
       "      <td>PC</td>\n",
       "      <td>1.0.2</td>\n",
       "      <td>p9873p11e7p</td>\n",
       "      <td>lose</td>\n",
       "      <td>268.443363</td>\n",
       "      <td>bundle_3</td>\n",
       "      <td>2015-12-08</td>\n",
       "      <td>21.99</td>\n",
       "    </tr>\n",
       "    <tr>\n",
       "      <th>16</th>\n",
       "      <td>2015-12-12</td>\n",
       "      <td>PS4</td>\n",
       "      <td>1.0.2</td>\n",
       "      <td>p03b9p48f3p</td>\n",
       "      <td>win</td>\n",
       "      <td>503.074786</td>\n",
       "      <td>pack_c</td>\n",
       "      <td>2015-11-24</td>\n",
       "      <td>1.99</td>\n",
       "    </tr>\n",
       "    <tr>\n",
       "      <th>17</th>\n",
       "      <td>2015-12-12</td>\n",
       "      <td>PS4</td>\n",
       "      <td>1.0.2</td>\n",
       "      <td>p03b9p48f3p</td>\n",
       "      <td>win</td>\n",
       "      <td>503.074786</td>\n",
       "      <td>pack_a</td>\n",
       "      <td>2015-11-12</td>\n",
       "      <td>0.99</td>\n",
       "    </tr>\n",
       "    <tr>\n",
       "      <th>18</th>\n",
       "      <td>2015-12-12</td>\n",
       "      <td>PS4</td>\n",
       "      <td>1.0.2</td>\n",
       "      <td>p03b9p48f3p</td>\n",
       "      <td>win</td>\n",
       "      <td>503.074786</td>\n",
       "      <td>pack_e</td>\n",
       "      <td>2015-11-12</td>\n",
       "      <td>5.00</td>\n",
       "    </tr>\n",
       "    <tr>\n",
       "      <th>26</th>\n",
       "      <td>2015-11-17</td>\n",
       "      <td>PC</td>\n",
       "      <td>1.0.1</td>\n",
       "      <td>pcbc2p11e6p</td>\n",
       "      <td>lose</td>\n",
       "      <td>296.017857</td>\n",
       "      <td>pack_a</td>\n",
       "      <td>2015-11-13</td>\n",
       "      <td>0.99</td>\n",
       "    </tr>\n",
       "    <tr>\n",
       "      <th>27</th>\n",
       "      <td>2015-11-17</td>\n",
       "      <td>PC</td>\n",
       "      <td>1.0.1</td>\n",
       "      <td>pcbc2p11e6p</td>\n",
       "      <td>lose</td>\n",
       "      <td>296.017857</td>\n",
       "      <td>pack_a</td>\n",
       "      <td>2015-11-18</td>\n",
       "      <td>0.99</td>\n",
       "    </tr>\n",
       "    <tr>\n",
       "      <th>29</th>\n",
       "      <td>2015-12-05</td>\n",
       "      <td>PC</td>\n",
       "      <td>1.0.2</td>\n",
       "      <td>pc02zp11e6p</td>\n",
       "      <td>win</td>\n",
       "      <td>530.784278</td>\n",
       "      <td>pack_a</td>\n",
       "      <td>2015-12-05</td>\n",
       "      <td>0.99</td>\n",
       "    </tr>\n",
       "    <tr>\n",
       "      <th>30</th>\n",
       "      <td>2015-12-05</td>\n",
       "      <td>PC</td>\n",
       "      <td>1.0.2</td>\n",
       "      <td>pc02zp11e6p</td>\n",
       "      <td>win</td>\n",
       "      <td>530.784278</td>\n",
       "      <td>pack_a</td>\n",
       "      <td>2015-12-01</td>\n",
       "      <td>0.99</td>\n",
       "    </tr>\n",
       "    <tr>\n",
       "      <th>31</th>\n",
       "      <td>2015-12-05</td>\n",
       "      <td>PC</td>\n",
       "      <td>1.0.2</td>\n",
       "      <td>pc02zp11e6p</td>\n",
       "      <td>win</td>\n",
       "      <td>530.784278</td>\n",
       "      <td>pack_c</td>\n",
       "      <td>2015-12-06</td>\n",
       "      <td>1.99</td>\n",
       "    </tr>\n",
       "    <tr>\n",
       "      <th>32</th>\n",
       "      <td>2015-12-05</td>\n",
       "      <td>PC</td>\n",
       "      <td>1.0.2</td>\n",
       "      <td>pc02zp11e6p</td>\n",
       "      <td>win</td>\n",
       "      <td>530.784278</td>\n",
       "      <td>pack_c</td>\n",
       "      <td>2015-12-10</td>\n",
       "      <td>1.99</td>\n",
       "    </tr>\n",
       "    <tr>\n",
       "      <th>33</th>\n",
       "      <td>2015-12-05</td>\n",
       "      <td>PC</td>\n",
       "      <td>1.0.2</td>\n",
       "      <td>pc02zp11e6p</td>\n",
       "      <td>win</td>\n",
       "      <td>530.784278</td>\n",
       "      <td>pack_a</td>\n",
       "      <td>2015-12-08</td>\n",
       "      <td>0.99</td>\n",
       "    </tr>\n",
       "    <tr>\n",
       "      <th>34</th>\n",
       "      <td>2015-12-05</td>\n",
       "      <td>PC</td>\n",
       "      <td>1.0.2</td>\n",
       "      <td>pc02zp11e6p</td>\n",
       "      <td>win</td>\n",
       "      <td>530.784278</td>\n",
       "      <td>pack_c</td>\n",
       "      <td>2015-11-12</td>\n",
       "      <td>1.99</td>\n",
       "    </tr>\n",
       "    <tr>\n",
       "      <th>35</th>\n",
       "      <td>2015-12-05</td>\n",
       "      <td>PC</td>\n",
       "      <td>1.0.2</td>\n",
       "      <td>pc02zp11e6p</td>\n",
       "      <td>win</td>\n",
       "      <td>530.784278</td>\n",
       "      <td>pack_b</td>\n",
       "      <td>2015-11-19</td>\n",
       "      <td>1.20</td>\n",
       "    </tr>\n",
       "    <tr>\n",
       "      <th>36</th>\n",
       "      <td>2015-12-05</td>\n",
       "      <td>PC</td>\n",
       "      <td>1.0.2</td>\n",
       "      <td>pc02zp11e6p</td>\n",
       "      <td>win</td>\n",
       "      <td>530.784278</td>\n",
       "      <td>pack_a</td>\n",
       "      <td>2015-12-12</td>\n",
       "      <td>0.99</td>\n",
       "    </tr>\n",
       "    <tr>\n",
       "      <th>39</th>\n",
       "      <td>2015-12-07</td>\n",
       "      <td>PS4</td>\n",
       "      <td>1.0.2</td>\n",
       "      <td>p84e3p423dp</td>\n",
       "      <td>lose</td>\n",
       "      <td>324.820084</td>\n",
       "      <td>pack_e</td>\n",
       "      <td>2015-12-08</td>\n",
       "      <td>5.00</td>\n",
       "    </tr>\n",
       "    <tr>\n",
       "      <th>40</th>\n",
       "      <td>2015-12-07</td>\n",
       "      <td>PS4</td>\n",
       "      <td>1.0.2</td>\n",
       "      <td>p84e3p423dp</td>\n",
       "      <td>lose</td>\n",
       "      <td>324.820084</td>\n",
       "      <td>bundle_8</td>\n",
       "      <td>2015-12-10</td>\n",
       "      <td>18.50</td>\n",
       "    </tr>\n",
       "    <tr>\n",
       "      <th>42</th>\n",
       "      <td>2015-12-11</td>\n",
       "      <td>PS4</td>\n",
       "      <td>1.0.2</td>\n",
       "      <td>pz8e6p462ap</td>\n",
       "      <td>lose</td>\n",
       "      <td>368.469183</td>\n",
       "      <td>bundle_10</td>\n",
       "      <td>2015-12-05</td>\n",
       "      <td>18.50</td>\n",
       "    </tr>\n",
       "    <tr>\n",
       "      <th>43</th>\n",
       "      <td>2015-12-11</td>\n",
       "      <td>PS4</td>\n",
       "      <td>1.0.2</td>\n",
       "      <td>pz8e6p462ap</td>\n",
       "      <td>lose</td>\n",
       "      <td>368.469183</td>\n",
       "      <td>bundle_1</td>\n",
       "      <td>2015-11-17</td>\n",
       "      <td>15.99</td>\n",
       "    </tr>\n",
       "    <tr>\n",
       "      <th>44</th>\n",
       "      <td>2015-12-11</td>\n",
       "      <td>PS4</td>\n",
       "      <td>1.0.2</td>\n",
       "      <td>pz8e6p462ap</td>\n",
       "      <td>lose</td>\n",
       "      <td>368.469183</td>\n",
       "      <td>bundle_10</td>\n",
       "      <td>2015-11-22</td>\n",
       "      <td>18.50</td>\n",
       "    </tr>\n",
       "    <tr>\n",
       "      <th>45</th>\n",
       "      <td>2015-12-11</td>\n",
       "      <td>PS4</td>\n",
       "      <td>1.0.2</td>\n",
       "      <td>pz8e6p462ap</td>\n",
       "      <td>lose</td>\n",
       "      <td>368.469183</td>\n",
       "      <td>bundle_10</td>\n",
       "      <td>2015-11-14</td>\n",
       "      <td>18.50</td>\n",
       "    </tr>\n",
       "    <tr>\n",
       "      <th>46</th>\n",
       "      <td>2015-12-11</td>\n",
       "      <td>PS4</td>\n",
       "      <td>1.0.2</td>\n",
       "      <td>pz8e6p462ap</td>\n",
       "      <td>lose</td>\n",
       "      <td>368.469183</td>\n",
       "      <td>pack_a</td>\n",
       "      <td>2015-11-18</td>\n",
       "      <td>0.99</td>\n",
       "    </tr>\n",
       "    <tr>\n",
       "      <th>...</th>\n",
       "      <td>...</td>\n",
       "      <td>...</td>\n",
       "      <td>...</td>\n",
       "      <td>...</td>\n",
       "      <td>...</td>\n",
       "      <td>...</td>\n",
       "      <td>...</td>\n",
       "      <td>...</td>\n",
       "      <td>...</td>\n",
       "    </tr>\n",
       "    <tr>\n",
       "      <th>80508</th>\n",
       "      <td>2015-11-29</td>\n",
       "      <td>PC</td>\n",
       "      <td>1.0.1</td>\n",
       "      <td>pf77ep4379p</td>\n",
       "      <td>win</td>\n",
       "      <td>316.505817</td>\n",
       "      <td>pack_a</td>\n",
       "      <td>2015-11-29</td>\n",
       "      <td>0.99</td>\n",
       "    </tr>\n",
       "    <tr>\n",
       "      <th>80509</th>\n",
       "      <td>2015-11-29</td>\n",
       "      <td>PC</td>\n",
       "      <td>1.0.1</td>\n",
       "      <td>pf77ep4379p</td>\n",
       "      <td>win</td>\n",
       "      <td>316.505817</td>\n",
       "      <td>pack_e</td>\n",
       "      <td>2015-12-01</td>\n",
       "      <td>5.00</td>\n",
       "    </tr>\n",
       "    <tr>\n",
       "      <th>80511</th>\n",
       "      <td>2015-12-04</td>\n",
       "      <td>PS4</td>\n",
       "      <td>1.0.2</td>\n",
       "      <td>pzac7p11e7p</td>\n",
       "      <td>lose</td>\n",
       "      <td>457.697355</td>\n",
       "      <td>pack_a</td>\n",
       "      <td>2015-11-15</td>\n",
       "      <td>0.99</td>\n",
       "    </tr>\n",
       "    <tr>\n",
       "      <th>80512</th>\n",
       "      <td>2015-12-04</td>\n",
       "      <td>PS4</td>\n",
       "      <td>1.0.2</td>\n",
       "      <td>pzac7p11e7p</td>\n",
       "      <td>lose</td>\n",
       "      <td>457.697355</td>\n",
       "      <td>pack_e</td>\n",
       "      <td>2015-12-02</td>\n",
       "      <td>5.00</td>\n",
       "    </tr>\n",
       "    <tr>\n",
       "      <th>80513</th>\n",
       "      <td>2015-12-04</td>\n",
       "      <td>PS4</td>\n",
       "      <td>1.0.2</td>\n",
       "      <td>pzac7p11e7p</td>\n",
       "      <td>lose</td>\n",
       "      <td>457.697355</td>\n",
       "      <td>pack_a</td>\n",
       "      <td>2015-12-07</td>\n",
       "      <td>0.99</td>\n",
       "    </tr>\n",
       "    <tr>\n",
       "      <th>80514</th>\n",
       "      <td>2015-12-04</td>\n",
       "      <td>PS4</td>\n",
       "      <td>1.0.2</td>\n",
       "      <td>pzac7p11e7p</td>\n",
       "      <td>lose</td>\n",
       "      <td>457.697355</td>\n",
       "      <td>bundle_9</td>\n",
       "      <td>2015-11-23</td>\n",
       "      <td>18.50</td>\n",
       "    </tr>\n",
       "    <tr>\n",
       "      <th>80515</th>\n",
       "      <td>2015-12-04</td>\n",
       "      <td>PS4</td>\n",
       "      <td>1.0.2</td>\n",
       "      <td>pzac7p11e7p</td>\n",
       "      <td>lose</td>\n",
       "      <td>457.697355</td>\n",
       "      <td>pack_b</td>\n",
       "      <td>2015-11-13</td>\n",
       "      <td>1.20</td>\n",
       "    </tr>\n",
       "    <tr>\n",
       "      <th>80516</th>\n",
       "      <td>2015-12-04</td>\n",
       "      <td>PS4</td>\n",
       "      <td>1.0.2</td>\n",
       "      <td>pzac7p11e7p</td>\n",
       "      <td>lose</td>\n",
       "      <td>457.697355</td>\n",
       "      <td>pack_e</td>\n",
       "      <td>2015-12-02</td>\n",
       "      <td>5.00</td>\n",
       "    </tr>\n",
       "    <tr>\n",
       "      <th>80517</th>\n",
       "      <td>2015-12-04</td>\n",
       "      <td>PS4</td>\n",
       "      <td>1.0.2</td>\n",
       "      <td>pzac7p11e7p</td>\n",
       "      <td>lose</td>\n",
       "      <td>457.697355</td>\n",
       "      <td>pack_c</td>\n",
       "      <td>2015-12-09</td>\n",
       "      <td>1.99</td>\n",
       "    </tr>\n",
       "    <tr>\n",
       "      <th>80518</th>\n",
       "      <td>2015-12-04</td>\n",
       "      <td>PS4</td>\n",
       "      <td>1.0.2</td>\n",
       "      <td>pzac7p11e7p</td>\n",
       "      <td>lose</td>\n",
       "      <td>457.697355</td>\n",
       "      <td>pack_a</td>\n",
       "      <td>2015-12-08</td>\n",
       "      <td>0.99</td>\n",
       "    </tr>\n",
       "    <tr>\n",
       "      <th>80520</th>\n",
       "      <td>2015-12-10</td>\n",
       "      <td>PS4</td>\n",
       "      <td>1.0.2</td>\n",
       "      <td>p6af3p44b7p</td>\n",
       "      <td>lose</td>\n",
       "      <td>409.877892</td>\n",
       "      <td>pack_a</td>\n",
       "      <td>2015-11-17</td>\n",
       "      <td>0.99</td>\n",
       "    </tr>\n",
       "    <tr>\n",
       "      <th>80521</th>\n",
       "      <td>2015-12-10</td>\n",
       "      <td>PS4</td>\n",
       "      <td>1.0.2</td>\n",
       "      <td>p6af3p44b7p</td>\n",
       "      <td>lose</td>\n",
       "      <td>409.877892</td>\n",
       "      <td>pack_b</td>\n",
       "      <td>2015-12-02</td>\n",
       "      <td>1.20</td>\n",
       "    </tr>\n",
       "    <tr>\n",
       "      <th>80523</th>\n",
       "      <td>2015-12-02</td>\n",
       "      <td>PS4</td>\n",
       "      <td>1.0.1</td>\n",
       "      <td>paz09p11e7p</td>\n",
       "      <td>win</td>\n",
       "      <td>283.013637</td>\n",
       "      <td>pack_a</td>\n",
       "      <td>2015-11-14</td>\n",
       "      <td>0.99</td>\n",
       "    </tr>\n",
       "    <tr>\n",
       "      <th>80524</th>\n",
       "      <td>2015-12-02</td>\n",
       "      <td>PS4</td>\n",
       "      <td>1.0.1</td>\n",
       "      <td>paz09p11e7p</td>\n",
       "      <td>win</td>\n",
       "      <td>283.013637</td>\n",
       "      <td>pack_e</td>\n",
       "      <td>2015-12-07</td>\n",
       "      <td>5.00</td>\n",
       "    </tr>\n",
       "    <tr>\n",
       "      <th>80525</th>\n",
       "      <td>2015-12-02</td>\n",
       "      <td>PS4</td>\n",
       "      <td>1.0.1</td>\n",
       "      <td>paz09p11e7p</td>\n",
       "      <td>win</td>\n",
       "      <td>283.013637</td>\n",
       "      <td>pack_c</td>\n",
       "      <td>2015-11-20</td>\n",
       "      <td>1.99</td>\n",
       "    </tr>\n",
       "    <tr>\n",
       "      <th>80526</th>\n",
       "      <td>2015-12-02</td>\n",
       "      <td>PS4</td>\n",
       "      <td>1.0.1</td>\n",
       "      <td>paz09p11e7p</td>\n",
       "      <td>win</td>\n",
       "      <td>283.013637</td>\n",
       "      <td>bundle_3</td>\n",
       "      <td>2015-12-02</td>\n",
       "      <td>21.99</td>\n",
       "    </tr>\n",
       "    <tr>\n",
       "      <th>80527</th>\n",
       "      <td>2015-12-01</td>\n",
       "      <td>PC</td>\n",
       "      <td>1.0.1</td>\n",
       "      <td>p97e7p11e7p</td>\n",
       "      <td>lose</td>\n",
       "      <td>436.128493</td>\n",
       "      <td>pack_c</td>\n",
       "      <td>2015-11-12</td>\n",
       "      <td>1.99</td>\n",
       "    </tr>\n",
       "    <tr>\n",
       "      <th>80528</th>\n",
       "      <td>2015-12-01</td>\n",
       "      <td>PC</td>\n",
       "      <td>1.0.1</td>\n",
       "      <td>p97e7p11e7p</td>\n",
       "      <td>lose</td>\n",
       "      <td>436.128493</td>\n",
       "      <td>pack_a</td>\n",
       "      <td>2015-11-26</td>\n",
       "      <td>0.99</td>\n",
       "    </tr>\n",
       "    <tr>\n",
       "      <th>80529</th>\n",
       "      <td>2015-12-01</td>\n",
       "      <td>PC</td>\n",
       "      <td>1.0.1</td>\n",
       "      <td>p97e7p11e7p</td>\n",
       "      <td>lose</td>\n",
       "      <td>436.128493</td>\n",
       "      <td>pack_c</td>\n",
       "      <td>2015-12-01</td>\n",
       "      <td>1.99</td>\n",
       "    </tr>\n",
       "    <tr>\n",
       "      <th>80530</th>\n",
       "      <td>2015-12-01</td>\n",
       "      <td>PC</td>\n",
       "      <td>1.0.1</td>\n",
       "      <td>p97e7p11e7p</td>\n",
       "      <td>lose</td>\n",
       "      <td>436.128493</td>\n",
       "      <td>pack_c</td>\n",
       "      <td>2015-12-08</td>\n",
       "      <td>1.99</td>\n",
       "    </tr>\n",
       "    <tr>\n",
       "      <th>80532</th>\n",
       "      <td>2015-11-25</td>\n",
       "      <td>PC</td>\n",
       "      <td>1.0.1</td>\n",
       "      <td>p42c3p11e7p</td>\n",
       "      <td>win</td>\n",
       "      <td>283.617571</td>\n",
       "      <td>pack_a</td>\n",
       "      <td>2015-11-18</td>\n",
       "      <td>0.99</td>\n",
       "    </tr>\n",
       "    <tr>\n",
       "      <th>80533</th>\n",
       "      <td>2015-11-25</td>\n",
       "      <td>PC</td>\n",
       "      <td>1.0.1</td>\n",
       "      <td>p42c3p11e7p</td>\n",
       "      <td>win</td>\n",
       "      <td>283.617571</td>\n",
       "      <td>pack_c</td>\n",
       "      <td>2015-11-25</td>\n",
       "      <td>1.99</td>\n",
       "    </tr>\n",
       "    <tr>\n",
       "      <th>80534</th>\n",
       "      <td>2015-11-25</td>\n",
       "      <td>PC</td>\n",
       "      <td>1.0.1</td>\n",
       "      <td>p42c3p11e7p</td>\n",
       "      <td>win</td>\n",
       "      <td>283.617571</td>\n",
       "      <td>pack_c</td>\n",
       "      <td>2015-11-29</td>\n",
       "      <td>1.99</td>\n",
       "    </tr>\n",
       "    <tr>\n",
       "      <th>80535</th>\n",
       "      <td>2015-11-25</td>\n",
       "      <td>PC</td>\n",
       "      <td>1.0.1</td>\n",
       "      <td>p42c3p11e7p</td>\n",
       "      <td>win</td>\n",
       "      <td>283.617571</td>\n",
       "      <td>pack_c</td>\n",
       "      <td>2015-12-03</td>\n",
       "      <td>1.99</td>\n",
       "    </tr>\n",
       "    <tr>\n",
       "      <th>80536</th>\n",
       "      <td>2015-11-25</td>\n",
       "      <td>PC</td>\n",
       "      <td>1.0.1</td>\n",
       "      <td>p42c3p11e7p</td>\n",
       "      <td>win</td>\n",
       "      <td>283.617571</td>\n",
       "      <td>pack_a</td>\n",
       "      <td>2015-11-19</td>\n",
       "      <td>0.99</td>\n",
       "    </tr>\n",
       "    <tr>\n",
       "      <th>80538</th>\n",
       "      <td>2015-12-06</td>\n",
       "      <td>PC</td>\n",
       "      <td>1.0.2</td>\n",
       "      <td>peb06p4dbbp</td>\n",
       "      <td>lose</td>\n",
       "      <td>436.077012</td>\n",
       "      <td>pack_a</td>\n",
       "      <td>2015-11-20</td>\n",
       "      <td>0.99</td>\n",
       "    </tr>\n",
       "    <tr>\n",
       "      <th>80539</th>\n",
       "      <td>2015-12-06</td>\n",
       "      <td>PC</td>\n",
       "      <td>1.0.2</td>\n",
       "      <td>peb06p4dbbp</td>\n",
       "      <td>lose</td>\n",
       "      <td>436.077012</td>\n",
       "      <td>bundle_1</td>\n",
       "      <td>2015-12-10</td>\n",
       "      <td>15.99</td>\n",
       "    </tr>\n",
       "    <tr>\n",
       "      <th>80540</th>\n",
       "      <td>2015-12-06</td>\n",
       "      <td>PC</td>\n",
       "      <td>1.0.2</td>\n",
       "      <td>peb06p4dbbp</td>\n",
       "      <td>lose</td>\n",
       "      <td>436.077012</td>\n",
       "      <td>pack_b</td>\n",
       "      <td>2015-11-17</td>\n",
       "      <td>1.20</td>\n",
       "    </tr>\n",
       "    <tr>\n",
       "      <th>80541</th>\n",
       "      <td>2015-12-06</td>\n",
       "      <td>PC</td>\n",
       "      <td>1.0.2</td>\n",
       "      <td>peb06p4dbbp</td>\n",
       "      <td>lose</td>\n",
       "      <td>436.077012</td>\n",
       "      <td>pack_a</td>\n",
       "      <td>2015-12-08</td>\n",
       "      <td>0.99</td>\n",
       "    </tr>\n",
       "    <tr>\n",
       "      <th>80542</th>\n",
       "      <td>2015-12-06</td>\n",
       "      <td>PC</td>\n",
       "      <td>1.0.2</td>\n",
       "      <td>peb06p4dbbp</td>\n",
       "      <td>lose</td>\n",
       "      <td>436.077012</td>\n",
       "      <td>pack_a</td>\n",
       "      <td>2015-12-11</td>\n",
       "      <td>0.99</td>\n",
       "    </tr>\n",
       "  </tbody>\n",
       "</table>\n",
       "<p>68504 rows × 9 columns</p>\n",
       "</div>"
      ],
      "text/plain": [
       "            Date Platform build_version    client_id outcome  \\\n",
       "0     2015-12-08       PC         1.0.2  pczzdp11e6p     win   \n",
       "1     2015-12-08       PC         1.0.2  pczzdp11e6p     win   \n",
       "2     2015-12-08       PC         1.0.2  pczzdp11e6p     win   \n",
       "3     2015-12-08       PC         1.0.2  pczzdp11e6p     win   \n",
       "4     2015-12-08       PC         1.0.2  pczzdp11e6p     win   \n",
       "5     2015-12-08       PC         1.0.2  pczzdp11e6p     win   \n",
       "10    2015-12-04       PC         1.0.2  p9873p11e7p    lose   \n",
       "11    2015-12-04       PC         1.0.2  p9873p11e7p    lose   \n",
       "12    2015-12-04       PC         1.0.2  p9873p11e7p    lose   \n",
       "13    2015-12-04       PC         1.0.2  p9873p11e7p    lose   \n",
       "16    2015-12-12      PS4         1.0.2  p03b9p48f3p     win   \n",
       "17    2015-12-12      PS4         1.0.2  p03b9p48f3p     win   \n",
       "18    2015-12-12      PS4         1.0.2  p03b9p48f3p     win   \n",
       "26    2015-11-17       PC         1.0.1  pcbc2p11e6p    lose   \n",
       "27    2015-11-17       PC         1.0.1  pcbc2p11e6p    lose   \n",
       "29    2015-12-05       PC         1.0.2  pc02zp11e6p     win   \n",
       "30    2015-12-05       PC         1.0.2  pc02zp11e6p     win   \n",
       "31    2015-12-05       PC         1.0.2  pc02zp11e6p     win   \n",
       "32    2015-12-05       PC         1.0.2  pc02zp11e6p     win   \n",
       "33    2015-12-05       PC         1.0.2  pc02zp11e6p     win   \n",
       "34    2015-12-05       PC         1.0.2  pc02zp11e6p     win   \n",
       "35    2015-12-05       PC         1.0.2  pc02zp11e6p     win   \n",
       "36    2015-12-05       PC         1.0.2  pc02zp11e6p     win   \n",
       "39    2015-12-07      PS4         1.0.2  p84e3p423dp    lose   \n",
       "40    2015-12-07      PS4         1.0.2  p84e3p423dp    lose   \n",
       "42    2015-12-11      PS4         1.0.2  pz8e6p462ap    lose   \n",
       "43    2015-12-11      PS4         1.0.2  pz8e6p462ap    lose   \n",
       "44    2015-12-11      PS4         1.0.2  pz8e6p462ap    lose   \n",
       "45    2015-12-11      PS4         1.0.2  pz8e6p462ap    lose   \n",
       "46    2015-12-11      PS4         1.0.2  pz8e6p462ap    lose   \n",
       "...          ...      ...           ...          ...     ...   \n",
       "80508 2015-11-29       PC         1.0.1  pf77ep4379p     win   \n",
       "80509 2015-11-29       PC         1.0.1  pf77ep4379p     win   \n",
       "80511 2015-12-04      PS4         1.0.2  pzac7p11e7p    lose   \n",
       "80512 2015-12-04      PS4         1.0.2  pzac7p11e7p    lose   \n",
       "80513 2015-12-04      PS4         1.0.2  pzac7p11e7p    lose   \n",
       "80514 2015-12-04      PS4         1.0.2  pzac7p11e7p    lose   \n",
       "80515 2015-12-04      PS4         1.0.2  pzac7p11e7p    lose   \n",
       "80516 2015-12-04      PS4         1.0.2  pzac7p11e7p    lose   \n",
       "80517 2015-12-04      PS4         1.0.2  pzac7p11e7p    lose   \n",
       "80518 2015-12-04      PS4         1.0.2  pzac7p11e7p    lose   \n",
       "80520 2015-12-10      PS4         1.0.2  p6af3p44b7p    lose   \n",
       "80521 2015-12-10      PS4         1.0.2  p6af3p44b7p    lose   \n",
       "80523 2015-12-02      PS4         1.0.1  paz09p11e7p     win   \n",
       "80524 2015-12-02      PS4         1.0.1  paz09p11e7p     win   \n",
       "80525 2015-12-02      PS4         1.0.1  paz09p11e7p     win   \n",
       "80526 2015-12-02      PS4         1.0.1  paz09p11e7p     win   \n",
       "80527 2015-12-01       PC         1.0.1  p97e7p11e7p    lose   \n",
       "80528 2015-12-01       PC         1.0.1  p97e7p11e7p    lose   \n",
       "80529 2015-12-01       PC         1.0.1  p97e7p11e7p    lose   \n",
       "80530 2015-12-01       PC         1.0.1  p97e7p11e7p    lose   \n",
       "80532 2015-11-25       PC         1.0.1  p42c3p11e7p     win   \n",
       "80533 2015-11-25       PC         1.0.1  p42c3p11e7p     win   \n",
       "80534 2015-11-25       PC         1.0.1  p42c3p11e7p     win   \n",
       "80535 2015-11-25       PC         1.0.1  p42c3p11e7p     win   \n",
       "80536 2015-11-25       PC         1.0.1  p42c3p11e7p     win   \n",
       "80538 2015-12-06       PC         1.0.2  peb06p4dbbp    lose   \n",
       "80539 2015-12-06       PC         1.0.2  peb06p4dbbp    lose   \n",
       "80540 2015-12-06       PC         1.0.2  peb06p4dbbp    lose   \n",
       "80541 2015-12-06       PC         1.0.2  peb06p4dbbp    lose   \n",
       "80542 2015-12-06       PC         1.0.2  peb06p4dbbp    lose   \n",
       "\n",
       "       experience_points store_item_name   Purchase  dollar_spent  \n",
       "0             295.636308          pack_c 2015-12-02          1.99  \n",
       "1             295.636308          pack_a 2015-12-08          0.99  \n",
       "2             295.636308          pack_c 2015-11-19          1.99  \n",
       "3             295.636308        bundle_1 2015-12-05         15.99  \n",
       "4             295.636308          pack_a 2015-12-11          0.99  \n",
       "5             295.636308          pack_a 2015-11-14          0.99  \n",
       "10            268.443363          pack_a 2015-11-25          0.99  \n",
       "11            268.443363          pack_a 2015-11-24          0.99  \n",
       "12            268.443363          pack_a 2015-11-14          0.99  \n",
       "13            268.443363        bundle_3 2015-12-08         21.99  \n",
       "16            503.074786          pack_c 2015-11-24          1.99  \n",
       "17            503.074786          pack_a 2015-11-12          0.99  \n",
       "18            503.074786          pack_e 2015-11-12          5.00  \n",
       "26            296.017857          pack_a 2015-11-13          0.99  \n",
       "27            296.017857          pack_a 2015-11-18          0.99  \n",
       "29            530.784278          pack_a 2015-12-05          0.99  \n",
       "30            530.784278          pack_a 2015-12-01          0.99  \n",
       "31            530.784278          pack_c 2015-12-06          1.99  \n",
       "32            530.784278          pack_c 2015-12-10          1.99  \n",
       "33            530.784278          pack_a 2015-12-08          0.99  \n",
       "34            530.784278          pack_c 2015-11-12          1.99  \n",
       "35            530.784278          pack_b 2015-11-19          1.20  \n",
       "36            530.784278          pack_a 2015-12-12          0.99  \n",
       "39            324.820084          pack_e 2015-12-08          5.00  \n",
       "40            324.820084        bundle_8 2015-12-10         18.50  \n",
       "42            368.469183       bundle_10 2015-12-05         18.50  \n",
       "43            368.469183        bundle_1 2015-11-17         15.99  \n",
       "44            368.469183       bundle_10 2015-11-22         18.50  \n",
       "45            368.469183       bundle_10 2015-11-14         18.50  \n",
       "46            368.469183          pack_a 2015-11-18          0.99  \n",
       "...                  ...             ...        ...           ...  \n",
       "80508         316.505817          pack_a 2015-11-29          0.99  \n",
       "80509         316.505817          pack_e 2015-12-01          5.00  \n",
       "80511         457.697355          pack_a 2015-11-15          0.99  \n",
       "80512         457.697355          pack_e 2015-12-02          5.00  \n",
       "80513         457.697355          pack_a 2015-12-07          0.99  \n",
       "80514         457.697355        bundle_9 2015-11-23         18.50  \n",
       "80515         457.697355          pack_b 2015-11-13          1.20  \n",
       "80516         457.697355          pack_e 2015-12-02          5.00  \n",
       "80517         457.697355          pack_c 2015-12-09          1.99  \n",
       "80518         457.697355          pack_a 2015-12-08          0.99  \n",
       "80520         409.877892          pack_a 2015-11-17          0.99  \n",
       "80521         409.877892          pack_b 2015-12-02          1.20  \n",
       "80523         283.013637          pack_a 2015-11-14          0.99  \n",
       "80524         283.013637          pack_e 2015-12-07          5.00  \n",
       "80525         283.013637          pack_c 2015-11-20          1.99  \n",
       "80526         283.013637        bundle_3 2015-12-02         21.99  \n",
       "80527         436.128493          pack_c 2015-11-12          1.99  \n",
       "80528         436.128493          pack_a 2015-11-26          0.99  \n",
       "80529         436.128493          pack_c 2015-12-01          1.99  \n",
       "80530         436.128493          pack_c 2015-12-08          1.99  \n",
       "80532         283.617571          pack_a 2015-11-18          0.99  \n",
       "80533         283.617571          pack_c 2015-11-25          1.99  \n",
       "80534         283.617571          pack_c 2015-11-29          1.99  \n",
       "80535         283.617571          pack_c 2015-12-03          1.99  \n",
       "80536         283.617571          pack_a 2015-11-19          0.99  \n",
       "80538         436.077012          pack_a 2015-11-20          0.99  \n",
       "80539         436.077012        bundle_1 2015-12-10         15.99  \n",
       "80540         436.077012          pack_b 2015-11-17          1.20  \n",
       "80541         436.077012          pack_a 2015-12-08          0.99  \n",
       "80542         436.077012          pack_a 2015-12-11          0.99  \n",
       "\n",
       "[68504 rows x 9 columns]"
      ]
     },
     "execution_count": 940,
     "metadata": {},
     "output_type": "execute_result"
    }
   ],
   "source": [
    "#deleting the rows with missing values\n",
    "play.dropna(subset = ['store_item_name', 'Purchase', 'dollar_spent'])"
   ]
  },
  {
   "cell_type": "code",
   "execution_count": 941,
   "metadata": {
    "collapsed": false,
    "deletable": true,
    "editable": true
   },
   "outputs": [
    {
     "data": {
      "text/html": [
       "<div>\n",
       "<style scoped>\n",
       "    .dataframe tbody tr th:only-of-type {\n",
       "        vertical-align: middle;\n",
       "    }\n",
       "\n",
       "    .dataframe tbody tr th {\n",
       "        vertical-align: top;\n",
       "    }\n",
       "\n",
       "    .dataframe thead th {\n",
       "        text-align: right;\n",
       "    }\n",
       "</style>\n",
       "<table border=\"1\" class=\"dataframe\">\n",
       "  <thead>\n",
       "    <tr style=\"text-align: right;\">\n",
       "      <th></th>\n",
       "      <th>Purchase</th>\n",
       "      <th>Platform</th>\n",
       "      <th>client_id</th>\n",
       "    </tr>\n",
       "  </thead>\n",
       "  <tbody>\n",
       "    <tr>\n",
       "      <th>0</th>\n",
       "      <td>2015-11-12</td>\n",
       "      <td>PC</td>\n",
       "      <td>107</td>\n",
       "    </tr>\n",
       "    <tr>\n",
       "      <th>1</th>\n",
       "      <td>2015-11-12</td>\n",
       "      <td>PS4</td>\n",
       "      <td>59</td>\n",
       "    </tr>\n",
       "    <tr>\n",
       "      <th>2</th>\n",
       "      <td>2015-11-13</td>\n",
       "      <td>PC</td>\n",
       "      <td>108</td>\n",
       "    </tr>\n",
       "    <tr>\n",
       "      <th>3</th>\n",
       "      <td>2015-11-13</td>\n",
       "      <td>PS4</td>\n",
       "      <td>69</td>\n",
       "    </tr>\n",
       "    <tr>\n",
       "      <th>4</th>\n",
       "      <td>2015-11-14</td>\n",
       "      <td>PC</td>\n",
       "      <td>127</td>\n",
       "    </tr>\n",
       "  </tbody>\n",
       "</table>\n",
       "</div>"
      ],
      "text/plain": [
       "    Purchase Platform  client_id\n",
       "0 2015-11-12       PC        107\n",
       "1 2015-11-12      PS4         59\n",
       "2 2015-11-13       PC        108\n",
       "3 2015-11-13      PS4         69\n",
       "4 2015-11-14       PC        127"
      ]
     },
     "execution_count": 941,
     "metadata": {},
     "output_type": "execute_result"
    }
   ],
   "source": [
    "#play.groupby(['Period', 'Platform']).count()\n",
    "DAC=play.groupby(['Purchase', 'Platform'],as_index=False).agg({'client_id': lambda x: x.nunique()}) \n",
    "DAC.head()    "
   ]
  },
  {
   "cell_type": "code",
   "execution_count": 942,
   "metadata": {
    "collapsed": true,
    "deletable": true,
    "editable": true
   },
   "outputs": [],
   "source": [
    "DAC.set_index('Platform', inplace=True)"
   ]
  },
  {
   "cell_type": "code",
   "execution_count": 1015,
   "metadata": {
    "collapsed": false,
    "deletable": true,
    "editable": true
   },
   "outputs": [
    {
     "data": {
      "image/png": "[encoded data removed]",
      "text/plain": [
       "<Figure size 432x288 with 1 Axes>"
      ]
     },
     "metadata": {},
     "output_type": "display_data"
    }
   ],
   "source": [
    "plt.plot( 'Purchase', 'client_id', data=DAC.loc['PC'], marker='o', markerfacecolor='grey', markersize=10, color='skyblue', linewidth=2, label=\"PC\")\n",
    "plt.plot( 'Purchase', 'client_id', data=DAC.loc['PS4'], marker='o', markerfacecolor='purple',color='olive', markersize=10, linewidth=2, label=\"PS4\")\n",
    "#plt.plot( 'x', 'y3', data=df, marker='', color='olive', linewidth=2, linestyle='dashed', label=\"toto\")\n",
    "plt.legend()\n",
    "plt.title('DAC');"
   ]
  },
  {
   "cell_type": "markdown",
   "metadata": {
    "deletable": true,
    "editable": true
   },
   "source": [
    "As per table and plot from above, the number of active customers on PC Platform is very high compared with the number of the number of active users on PS4 Platform (more than 2 times) the studied period, whereas the variation in number coincide for both cases."
   ]
  },
  {
   "cell_type": "markdown",
   "metadata": {
    "deletable": true,
    "editable": true
   },
   "source": [
    "- __Daily Revenue* segmented by platform__"
   ]
  },
  {
   "cell_type": "code",
   "execution_count": 944,
   "metadata": {
    "collapsed": false,
    "deletable": true,
    "editable": true
   },
   "outputs": [
    {
     "data": {
      "text/html": [
       "<div>\n",
       "<style scoped>\n",
       "    .dataframe tbody tr th:only-of-type {\n",
       "        vertical-align: middle;\n",
       "    }\n",
       "\n",
       "    .dataframe tbody tr th {\n",
       "        vertical-align: top;\n",
       "    }\n",
       "\n",
       "    .dataframe thead th {\n",
       "        text-align: right;\n",
       "    }\n",
       "</style>\n",
       "<table border=\"1\" class=\"dataframe\">\n",
       "  <thead>\n",
       "    <tr style=\"text-align: right;\">\n",
       "      <th></th>\n",
       "      <th>Purchase</th>\n",
       "      <th>Platform</th>\n",
       "      <th>dollar_spent</th>\n",
       "    </tr>\n",
       "  </thead>\n",
       "  <tbody>\n",
       "    <tr>\n",
       "      <th>0</th>\n",
       "      <td>2015-11-12</td>\n",
       "      <td>PC</td>\n",
       "      <td>7787.86</td>\n",
       "    </tr>\n",
       "    <tr>\n",
       "      <th>1</th>\n",
       "      <td>2015-11-12</td>\n",
       "      <td>PS4</td>\n",
       "      <td>6892.36</td>\n",
       "    </tr>\n",
       "    <tr>\n",
       "      <th>2</th>\n",
       "      <td>2015-11-13</td>\n",
       "      <td>PC</td>\n",
       "      <td>4182.08</td>\n",
       "    </tr>\n",
       "    <tr>\n",
       "      <th>3</th>\n",
       "      <td>2015-11-13</td>\n",
       "      <td>PS4</td>\n",
       "      <td>3930.50</td>\n",
       "    </tr>\n",
       "    <tr>\n",
       "      <th>4</th>\n",
       "      <td>2015-11-14</td>\n",
       "      <td>PC</td>\n",
       "      <td>5225.48</td>\n",
       "    </tr>\n",
       "  </tbody>\n",
       "</table>\n",
       "</div>"
      ],
      "text/plain": [
       "    Purchase Platform  dollar_spent\n",
       "0 2015-11-12       PC       7787.86\n",
       "1 2015-11-12      PS4       6892.36\n",
       "2 2015-11-13       PC       4182.08\n",
       "3 2015-11-13      PS4       3930.50\n",
       "4 2015-11-14       PC       5225.48"
      ]
     },
     "execution_count": 944,
     "metadata": {},
     "output_type": "execute_result"
    }
   ],
   "source": [
    "DR=play.groupby(['Purchase', 'Platform'],as_index=False).agg({'dollar_spent': lambda x: x.sum()}) \n",
    "DR.head()"
   ]
  },
  {
   "cell_type": "code",
   "execution_count": 945,
   "metadata": {
    "collapsed": true,
    "deletable": true,
    "editable": true
   },
   "outputs": [],
   "source": [
    "DR.set_index('Platform', inplace=True)"
   ]
  },
  {
   "cell_type": "code",
   "execution_count": 1016,
   "metadata": {
    "collapsed": false,
    "deletable": true,
    "editable": true
   },
   "outputs": [
    {
     "data": {
      "image/png": "[encoded data removed]",
      "text/plain": [
       "<Figure size 432x288 with 1 Axes>"
      ]
     },
     "metadata": {},
     "output_type": "display_data"
    }
   ],
   "source": [
    "plt.plot( 'Purchase', 'dollar_spent', data=DR.loc['PC'], marker='o', markerfacecolor='green', markersize=10, color='skyblue', linewidth=2, label=\"PC\")\n",
    "plt.plot( 'Purchase', 'dollar_spent', data=DR.loc['PS4'], marker='o', markerfacecolor='red',color='olive', markersize=10, linewidth=2, label=\"PS4\" )\n",
    "#plt.plot( 'x', 'y3', data=df, marker='', color='olive', linewidth=2, linestyle='dashed', label=\"toto\")\n",
    "plt.legend()\n",
    "plt.title('Daily Revenue');"
   ]
  },
  {
   "cell_type": "markdown",
   "metadata": {
    "collapsed": false,
    "deletable": true,
    "editable": true
   },
   "source": [
    "As per table and plot from above, the value of daily revenue on PC Platform and the value of of daily revenue on PS4 Platform, over the studied period, has very high variations. Sometime, the pic  variations show two times difference in value.\n"
   ]
  },
  {
   "cell_type": "markdown",
   "metadata": {
    "deletable": true,
    "editable": true
   },
   "source": [
    "- __Daily Conversion* segmented by platform__"
   ]
  },
  {
   "cell_type": "code",
   "execution_count": 947,
   "metadata": {
    "collapsed": false,
    "deletable": true,
    "editable": true
   },
   "outputs": [],
   "source": [
    "\n",
    "DC=play[play[\"Date\"]==play[\"Purchase\"]].groupby(['Date', 'Purchase', 'Platform'],as_index=False).agg({'client_id': lambda x: x.nunique()}) "
   ]
  },
  {
   "cell_type": "code",
   "execution_count": 948,
   "metadata": {
    "collapsed": false,
    "deletable": true,
    "editable": true
   },
   "outputs": [
    {
     "data": {
      "text/html": [
       "<div>\n",
       "<style scoped>\n",
       "    .dataframe tbody tr th:only-of-type {\n",
       "        vertical-align: middle;\n",
       "    }\n",
       "\n",
       "    .dataframe tbody tr th {\n",
       "        vertical-align: top;\n",
       "    }\n",
       "\n",
       "    .dataframe thead th {\n",
       "        text-align: right;\n",
       "    }\n",
       "</style>\n",
       "<table border=\"1\" class=\"dataframe\">\n",
       "  <thead>\n",
       "    <tr style=\"text-align: right;\">\n",
       "      <th></th>\n",
       "      <th>Date</th>\n",
       "      <th>Purchase</th>\n",
       "      <th>Platform</th>\n",
       "      <th>client_id</th>\n",
       "    </tr>\n",
       "  </thead>\n",
       "  <tbody>\n",
       "    <tr>\n",
       "      <th>0</th>\n",
       "      <td>2015-11-12</td>\n",
       "      <td>2015-11-12</td>\n",
       "      <td>PC</td>\n",
       "      <td>23</td>\n",
       "    </tr>\n",
       "    <tr>\n",
       "      <th>1</th>\n",
       "      <td>2015-11-12</td>\n",
       "      <td>2015-11-12</td>\n",
       "      <td>PS4</td>\n",
       "      <td>12</td>\n",
       "    </tr>\n",
       "    <tr>\n",
       "      <th>2</th>\n",
       "      <td>2015-11-13</td>\n",
       "      <td>2015-11-13</td>\n",
       "      <td>PC</td>\n",
       "      <td>16</td>\n",
       "    </tr>\n",
       "    <tr>\n",
       "      <th>3</th>\n",
       "      <td>2015-11-13</td>\n",
       "      <td>2015-11-13</td>\n",
       "      <td>PS4</td>\n",
       "      <td>14</td>\n",
       "    </tr>\n",
       "    <tr>\n",
       "      <th>4</th>\n",
       "      <td>2015-11-14</td>\n",
       "      <td>2015-11-14</td>\n",
       "      <td>PC</td>\n",
       "      <td>21</td>\n",
       "    </tr>\n",
       "  </tbody>\n",
       "</table>\n",
       "</div>"
      ],
      "text/plain": [
       "        Date   Purchase Platform  client_id\n",
       "0 2015-11-12 2015-11-12       PC         23\n",
       "1 2015-11-12 2015-11-12      PS4         12\n",
       "2 2015-11-13 2015-11-13       PC         16\n",
       "3 2015-11-13 2015-11-13      PS4         14\n",
       "4 2015-11-14 2015-11-14       PC         21"
      ]
     },
     "execution_count": 948,
     "metadata": {},
     "output_type": "execute_result"
    }
   ],
   "source": [
    "DC.head()"
   ]
  },
  {
   "cell_type": "code",
   "execution_count": 949,
   "metadata": {
    "collapsed": true,
    "deletable": true,
    "editable": true
   },
   "outputs": [],
   "source": [
    "START = pd.read_csv('play_evaluation.csv', sep=';')"
   ]
  },
  {
   "cell_type": "code",
   "execution_count": 950,
   "metadata": {
    "collapsed": false,
    "deletable": true,
    "editable": true
   },
   "outputs": [
    {
     "data": {
      "text/html": [
       "<div>\n",
       "<style scoped>\n",
       "    .dataframe tbody tr th:only-of-type {\n",
       "        vertical-align: middle;\n",
       "    }\n",
       "\n",
       "    .dataframe tbody tr th {\n",
       "        vertical-align: top;\n",
       "    }\n",
       "\n",
       "    .dataframe thead th {\n",
       "        text-align: right;\n",
       "    }\n",
       "</style>\n",
       "<table border=\"1\" class=\"dataframe\">\n",
       "  <thead>\n",
       "    <tr style=\"text-align: right;\">\n",
       "      <th></th>\n",
       "      <th>Date</th>\n",
       "      <th>Platform</th>\n",
       "      <th>client_id</th>\n",
       "    </tr>\n",
       "  </thead>\n",
       "  <tbody>\n",
       "    <tr>\n",
       "      <th>0</th>\n",
       "      <td>2015-11-12</td>\n",
       "      <td>PC</td>\n",
       "      <td>236</td>\n",
       "    </tr>\n",
       "    <tr>\n",
       "      <th>1</th>\n",
       "      <td>2015-11-12</td>\n",
       "      <td>PS4</td>\n",
       "      <td>115</td>\n",
       "    </tr>\n",
       "    <tr>\n",
       "      <th>2</th>\n",
       "      <td>2015-11-13</td>\n",
       "      <td>PC</td>\n",
       "      <td>246</td>\n",
       "    </tr>\n",
       "    <tr>\n",
       "      <th>3</th>\n",
       "      <td>2015-11-13</td>\n",
       "      <td>PS4</td>\n",
       "      <td>133</td>\n",
       "    </tr>\n",
       "    <tr>\n",
       "      <th>4</th>\n",
       "      <td>2015-11-14</td>\n",
       "      <td>PC</td>\n",
       "      <td>250</td>\n",
       "    </tr>\n",
       "  </tbody>\n",
       "</table>\n",
       "</div>"
      ],
      "text/plain": [
       "         Date Platform  client_id\n",
       "0  2015-11-12       PC        236\n",
       "1  2015-11-12      PS4        115\n",
       "2  2015-11-13       PC        246\n",
       "3  2015-11-13      PS4        133\n",
       "4  2015-11-14       PC        250"
      ]
     },
     "execution_count": 950,
     "metadata": {},
     "output_type": "execute_result"
    }
   ],
   "source": [
    "active=START.groupby(['Date','Platform'],as_index=False).agg({'client_id': lambda x: x.nunique()}) \n",
    "active.head()"
   ]
  },
  {
   "cell_type": "code",
   "execution_count": 951,
   "metadata": {
    "collapsed": false,
    "deletable": true,
    "editable": true
   },
   "outputs": [],
   "source": [
    "DC['conversion%']=DC['client_id']/active['client_id']*100"
   ]
  },
  {
   "cell_type": "code",
   "execution_count": 952,
   "metadata": {
    "collapsed": false,
    "deletable": true,
    "editable": true
   },
   "outputs": [
    {
     "data": {
      "text/html": [
       "<div>\n",
       "<style scoped>\n",
       "    .dataframe tbody tr th:only-of-type {\n",
       "        vertical-align: middle;\n",
       "    }\n",
       "\n",
       "    .dataframe tbody tr th {\n",
       "        vertical-align: top;\n",
       "    }\n",
       "\n",
       "    .dataframe thead th {\n",
       "        text-align: right;\n",
       "    }\n",
       "</style>\n",
       "<table border=\"1\" class=\"dataframe\">\n",
       "  <thead>\n",
       "    <tr style=\"text-align: right;\">\n",
       "      <th></th>\n",
       "      <th>Date</th>\n",
       "      <th>Purchase</th>\n",
       "      <th>Platform</th>\n",
       "      <th>client_id</th>\n",
       "      <th>conversion%</th>\n",
       "    </tr>\n",
       "  </thead>\n",
       "  <tbody>\n",
       "    <tr>\n",
       "      <th>0</th>\n",
       "      <td>2015-11-12</td>\n",
       "      <td>2015-11-12</td>\n",
       "      <td>PC</td>\n",
       "      <td>23</td>\n",
       "      <td>9.745763</td>\n",
       "    </tr>\n",
       "    <tr>\n",
       "      <th>1</th>\n",
       "      <td>2015-11-12</td>\n",
       "      <td>2015-11-12</td>\n",
       "      <td>PS4</td>\n",
       "      <td>12</td>\n",
       "      <td>10.434783</td>\n",
       "    </tr>\n",
       "    <tr>\n",
       "      <th>2</th>\n",
       "      <td>2015-11-13</td>\n",
       "      <td>2015-11-13</td>\n",
       "      <td>PC</td>\n",
       "      <td>16</td>\n",
       "      <td>6.504065</td>\n",
       "    </tr>\n",
       "    <tr>\n",
       "      <th>3</th>\n",
       "      <td>2015-11-13</td>\n",
       "      <td>2015-11-13</td>\n",
       "      <td>PS4</td>\n",
       "      <td>14</td>\n",
       "      <td>10.526316</td>\n",
       "    </tr>\n",
       "    <tr>\n",
       "      <th>4</th>\n",
       "      <td>2015-11-14</td>\n",
       "      <td>2015-11-14</td>\n",
       "      <td>PC</td>\n",
       "      <td>21</td>\n",
       "      <td>8.400000</td>\n",
       "    </tr>\n",
       "  </tbody>\n",
       "</table>\n",
       "</div>"
      ],
      "text/plain": [
       "        Date   Purchase Platform  client_id  conversion%\n",
       "0 2015-11-12 2015-11-12       PC         23     9.745763\n",
       "1 2015-11-12 2015-11-12      PS4         12    10.434783\n",
       "2 2015-11-13 2015-11-13       PC         16     6.504065\n",
       "3 2015-11-13 2015-11-13      PS4         14    10.526316\n",
       "4 2015-11-14 2015-11-14       PC         21     8.400000"
      ]
     },
     "execution_count": 952,
     "metadata": {},
     "output_type": "execute_result"
    }
   ],
   "source": [
    "DC.head()"
   ]
  },
  {
   "cell_type": "code",
   "execution_count": 953,
   "metadata": {
    "collapsed": true,
    "deletable": true,
    "editable": true
   },
   "outputs": [],
   "source": [
    "DC.set_index('Platform', inplace=True)"
   ]
  },
  {
   "cell_type": "code",
   "execution_count": 1017,
   "metadata": {
    "collapsed": false,
    "deletable": true,
    "editable": true
   },
   "outputs": [
    {
     "data": {
      "image/png": "[encoded data removed]",
      "text/plain": [
       "<Figure size 432x288 with 1 Axes>"
      ]
     },
     "metadata": {},
     "output_type": "display_data"
    }
   ],
   "source": [
    "plt.plot( 'Purchase', 'conversion%', data=DC.loc['PC'], marker='o', markerfacecolor='magenta', markersize=10, color='skyblue', linewidth=2, label=\"PC\")\n",
    "plt.plot( 'Purchase', 'conversion%', data=DC.loc['PS4'], marker='o', markerfacecolor='green',color='olive', markersize=10, linewidth=2, label=\"PS4\" )\n",
    "#plt.plot( 'x', 'y3', data=df, marker='', color='olive', linewidth=2, linestyle='dashed', label=\"toto\")\n",
    "plt.legend()\n",
    "plt.title('Daily Conversion');"
   ]
  },
  {
   "cell_type": "markdown",
   "metadata": {
    "deletable": true,
    "editable": true
   },
   "source": [
    "As per table and plot from above, the value of daily conversion on PC Platform and the value of of daily conversion on PS4 Platform, over the studied period, has very high variations.At the very beginig of the period, the variation picks between the two values are almost triple, getting to a closer value by the end of the period. "
   ]
  },
  {
   "cell_type": "markdown",
   "metadata": {
    "deletable": true,
    "editable": true
   },
   "source": [
    "- __Day-7 Retention segmented by platform__ "
   ]
  },
  {
   "cell_type": "code",
   "execution_count": 955,
   "metadata": {
    "collapsed": false,
    "deletable": true,
    "editable": true
   },
   "outputs": [
    {
     "data": {
      "text/plain": [
       "Timestamp('2015-11-12 00:00:00')"
      ]
     },
     "execution_count": 955,
     "metadata": {},
     "output_type": "execute_result"
    }
   ],
   "source": [
    "play['Date'].min()"
   ]
  },
  {
   "cell_type": "code",
   "execution_count": 956,
   "metadata": {
    "collapsed": false,
    "deletable": true,
    "editable": true
   },
   "outputs": [],
   "source": [
    "df = play.loc[play['Date'] == \"2015-11-12\"]"
   ]
  },
  {
   "cell_type": "code",
   "execution_count": 957,
   "metadata": {
    "collapsed": false,
    "deletable": true,
    "editable": true
   },
   "outputs": [
    {
     "data": {
      "text/html": [
       "<div>\n",
       "<style scoped>\n",
       "    .dataframe tbody tr th:only-of-type {\n",
       "        vertical-align: middle;\n",
       "    }\n",
       "\n",
       "    .dataframe tbody tr th {\n",
       "        vertical-align: top;\n",
       "    }\n",
       "\n",
       "    .dataframe thead th {\n",
       "        text-align: right;\n",
       "    }\n",
       "</style>\n",
       "<table border=\"1\" class=\"dataframe\">\n",
       "  <thead>\n",
       "    <tr style=\"text-align: right;\">\n",
       "      <th></th>\n",
       "      <th>Date</th>\n",
       "      <th>Platform</th>\n",
       "      <th>build_version</th>\n",
       "      <th>client_id</th>\n",
       "      <th>outcome</th>\n",
       "      <th>experience_points</th>\n",
       "      <th>store_item_name</th>\n",
       "      <th>Purchase</th>\n",
       "      <th>dollar_spent</th>\n",
       "    </tr>\n",
       "  </thead>\n",
       "  <tbody>\n",
       "    <tr>\n",
       "      <th>178</th>\n",
       "      <td>2015-11-12</td>\n",
       "      <td>PC</td>\n",
       "      <td>1.0.1</td>\n",
       "      <td>pz6bap11e7p</td>\n",
       "      <td>win</td>\n",
       "      <td>409.139422</td>\n",
       "      <td>pack_c</td>\n",
       "      <td>2015-12-11</td>\n",
       "      <td>1.99</td>\n",
       "    </tr>\n",
       "    <tr>\n",
       "      <th>179</th>\n",
       "      <td>2015-11-12</td>\n",
       "      <td>PC</td>\n",
       "      <td>1.0.1</td>\n",
       "      <td>pz6bap11e7p</td>\n",
       "      <td>win</td>\n",
       "      <td>409.139422</td>\n",
       "      <td>pack_a</td>\n",
       "      <td>2015-11-21</td>\n",
       "      <td>0.99</td>\n",
       "    </tr>\n",
       "    <tr>\n",
       "      <th>180</th>\n",
       "      <td>2015-11-12</td>\n",
       "      <td>PC</td>\n",
       "      <td>1.0.1</td>\n",
       "      <td>pz6bap11e7p</td>\n",
       "      <td>win</td>\n",
       "      <td>409.139422</td>\n",
       "      <td>pack_b</td>\n",
       "      <td>2015-11-22</td>\n",
       "      <td>1.20</td>\n",
       "    </tr>\n",
       "    <tr>\n",
       "      <th>181</th>\n",
       "      <td>2015-11-12</td>\n",
       "      <td>PC</td>\n",
       "      <td>1.0.1</td>\n",
       "      <td>pz6bap11e7p</td>\n",
       "      <td>win</td>\n",
       "      <td>409.139422</td>\n",
       "      <td>pack_a</td>\n",
       "      <td>2015-11-27</td>\n",
       "      <td>0.99</td>\n",
       "    </tr>\n",
       "    <tr>\n",
       "      <th>204</th>\n",
       "      <td>2015-11-12</td>\n",
       "      <td>PC</td>\n",
       "      <td>1.0.1</td>\n",
       "      <td>pdzz4p11e6p</td>\n",
       "      <td>lose</td>\n",
       "      <td>261.153433</td>\n",
       "      <td>pack_a</td>\n",
       "      <td>2015-11-30</td>\n",
       "      <td>0.99</td>\n",
       "    </tr>\n",
       "  </tbody>\n",
       "</table>\n",
       "</div>"
      ],
      "text/plain": [
       "          Date Platform build_version    client_id outcome  experience_points  \\\n",
       "178 2015-11-12       PC         1.0.1  pz6bap11e7p     win         409.139422   \n",
       "179 2015-11-12       PC         1.0.1  pz6bap11e7p     win         409.139422   \n",
       "180 2015-11-12       PC         1.0.1  pz6bap11e7p     win         409.139422   \n",
       "181 2015-11-12       PC         1.0.1  pz6bap11e7p     win         409.139422   \n",
       "204 2015-11-12       PC         1.0.1  pdzz4p11e6p    lose         261.153433   \n",
       "\n",
       "    store_item_name   Purchase  dollar_spent  \n",
       "178          pack_c 2015-12-11          1.99  \n",
       "179          pack_a 2015-11-21          0.99  \n",
       "180          pack_b 2015-11-22          1.20  \n",
       "181          pack_a 2015-11-27          0.99  \n",
       "204          pack_a 2015-11-30          0.99  "
      ]
     },
     "execution_count": 957,
     "metadata": {},
     "output_type": "execute_result"
    }
   ],
   "source": [
    "df.head()"
   ]
  },
  {
   "cell_type": "code",
   "execution_count": 958,
   "metadata": {
    "collapsed": false,
    "deletable": true,
    "editable": true
   },
   "outputs": [
    {
     "data": {
      "text/plain": [
       "Date\n",
       "2015-11-12    351\n",
       "Name: client_id, dtype: int64"
      ]
     },
     "execution_count": 958,
     "metadata": {},
     "output_type": "execute_result"
    }
   ],
   "source": [
    "df.groupby('Date')['client_id'].nunique()"
   ]
  },
  {
   "cell_type": "code",
   "execution_count": 959,
   "metadata": {
    "collapsed": false,
    "deletable": true,
    "editable": true
   },
   "outputs": [
    {
     "data": {
      "text/plain": [
       "array(['pz6bap11e7p', 'pdzz4p11e6p', 'pzf01p11e7p', 'pz796p11e7p',\n",
       "       'p21c4p11e7p', 'p0dbbp401dp', 'pbd92p11e6p', 'pd8f7p11e6p',\n",
       "       'p7492p11e7p', 'pd8cdp42dep', 'pbf00p11e6p', 'p9bz6p4ab3p',\n",
       "       'pc2e0p11e6p', 'p4267p4b10p', 'p7za3p4e77p', 'p6z80p4e03p',\n",
       "       'pe8e7p40a9p', 'p9118p11e7p', 'pd62bp499cp', 'pz6d8p11e7p',\n",
       "       'p1ae0p4800p', 'pa463p4c99p', 'pc364p11e6p', 'pb33ep40aap',\n",
       "       'p7721p4e84p', 'p38c8p4d6dp', 'pz360p11e7p', 'p4162p11e7p',\n",
       "       'pbfc1p11e6p', 'p880cp11e7p', 'pbdf4p11e6p', 'pc68dp4739p',\n",
       "       'pb16cp4a6cp', 'p160bp11e7p', 'p9f99p11e7p', 'pe6f1p44b0p',\n",
       "       'p60d8p492zp', 'p98e2p11e7p', 'pzzf2p11e7p', 'pbe78p11e6p',\n",
       "       'p77a2p11e7p', 'p16dbp4e30p', 'p79f4p11e7p', 'p9c4ap11e7p',\n",
       "       'p0e7zp4eefp', 'p2fd9p11e7p', 'p16e7p4a26p', 'pa1f3p11e7p',\n",
       "       'pa99dp48a7p', 'pz9f1p11e7p', 'p7fe1p4e4cp', 'p89e4p11e7p',\n",
       "       'p80aap4z82p', 'p86dzp11e7p', 'p6f0cp11e7p', 'p660dp11e7p',\n",
       "       'pa0f4p11e7p', 'pc47dp11e6p', 'p86dzp4z3cp', 'p63z4p492fp',\n",
       "       'p16f2p11e7p', 'pzd83p48abp', 'p268fp4813p', 'p0f3cp44aep',\n",
       "       'pzd3ep4a9ap', 'p9ba9p11e7p', 'p231ep4ebbp', 'pz807p11e7p',\n",
       "       'pc461p11e6p', 'pbd8bp11e6p', 'p9e1dp11e7p', 'pbd87p11e6p',\n",
       "       'pczf6p4848p', 'pcz3ep11e6p', 'pz60zp4fc6p', 'pffzdp477dp',\n",
       "       'p90z2p4b4fp', 'pdbf4p44zfp', 'pb432p471fp', 'p2be0p4db2p',\n",
       "       'p999fp11e7p', 'p74bcp11e7p', 'p3896p11e7p', 'p69dap11e7p',\n",
       "       'pc720p4afdp', 'pzc33p11e7p', 'p9b3fp11e7p', 'p4b9ap4ce9p',\n",
       "       'p79dap11e7p', 'pe4f7p4462p', 'pzbc2p11e7p', 'p1ac9p11e7p',\n",
       "       'p34ezp11e7p', 'pc099p11e6p', 'pfb36p11e6p', 'pb00ap4809p',\n",
       "       'p1z6bp11e7p', 'pbf98p11e6p', 'pcb3bp474ap', 'p9871p11e7p',\n",
       "       'pbdbep11e6p', 'pb211p4c39p', 'p08dzp4ed8p', 'pz3dbp11e7p',\n",
       "       'p9a28p11e7p', 'p8d8zp41abp', 'p4e43p4c3fp', 'pd24cp4db3p',\n",
       "       'p1802p4ae2p', 'p9ae2p11e7p', 'pc430p11e6p', 'pbf6fp11e6p',\n",
       "       'pbd84p11e6p', 'pfdfzp4ab0p', 'pa968p11e7p', 'pc491p11e6p',\n",
       "       'p1731p11e7p', 'pb66zp4e7bp', 'p08bap4f1ep', 'p6fbbp476zp',\n",
       "       'pc163p11e6p', 'p803cp4717p', 'p661ap4d64p', 'p6084p4840p',\n",
       "       'pb9dbp41a2p', 'pce9fp11e6p', 'pc8b8p4694p', 'p7277p11e7p',\n",
       "       'pbdcap11e6p', 'pda48p460zp', 'pc4z7p4399p', 'pd6dfp11e6p',\n",
       "       'pccacp41c4p', 'p8z0dp11e7p', 'p9817p11e7p', 'pc81ap11e6p',\n",
       "       'pc97bp11e6p', 'pzb7zp4d84p', 'pd88cp4071p', 'pc136p11e6p',\n",
       "       'pbd86p11e6p', 'p6z90p43e1p', 'pc340p11e6p', 'p0c4fp4b12p',\n",
       "       'pbe19p11e6p', 'p2a39p40fcp', 'pfaffp11e6p', 'p60ezp11e7p',\n",
       "       'pc784p4362p', 'p8az7p11e7p', 'p2778p46acp', 'p8b63p11e7p',\n",
       "       'pbdf7p11e6p', 'pc43ap11e6p', 'p8aa9p4f4dp', 'pe23ap4z6zp',\n",
       "       'pcb39p11e6p', 'p303ep4bzdp', 'p8db3p4f3zp', 'pbd94p11e6p',\n",
       "       'p4ab7p4zz4p', 'pa169p40d8p', 'pc4z9p11e6p', 'p2101p44c4p',\n",
       "       'pb7f7p4c34p', 'p90a1p470ep', 'pb0z7p421bp', 'p204ap4af9p',\n",
       "       'p9b98p11e7p', 'pd0ddp11e6p', 'pzd8fp11e7p', 'p24cep11e7p',\n",
       "       'pe6edp11e6p', 'p98b9p11e7p', 'p60z0p4f80p', 'pa63fp4b4ep',\n",
       "       'p20d4p440fp', 'pza9fp4823p', 'pzf70p11e7p', 'p34fcp11e7p',\n",
       "       'p410dp4088p', 'pzc36p11e7p', 'pz7zap11e7p', 'p8811p11e7p',\n",
       "       'p630bp4771p', 'p17z7p4223p', 'pzd03p4d26p', 'pbe99p11e6p',\n",
       "       'pz710p11e7p', 'pbdfcp11e6p', 'pca23p11e6p', 'pz660p11e7p',\n",
       "       'peafzp11e6p', 'pz904p4c20p', 'pecc2p4zc2p', 'pbe12p11e6p',\n",
       "       'p3869p4ddfp', 'p627dp11e7p', 'p8092p4d4dp', 'p9996p11e7p',\n",
       "       'pz634p11e7p', 'pc01fp4z7ep', 'p9989p11e7p', 'paa0ap4c0dp',\n",
       "       'p6676p11e7p', 'p4zedp4cbcp', 'p31d1p443ap', 'pfd7dp421bp',\n",
       "       'p8767p11e7p', 'p6448p11e7p', 'pbdfep11e6p', 'p90zep11e7p',\n",
       "       'p9c0ap11e7p', 'pz7b7p11e7p', 'p236dp11e7p', 'pz4c7p4182p',\n",
       "       'pe720p11e6p', 'p9a36p11e7p', 'pz6d9p11e7p', 'pz927p11e7p',\n",
       "       'p90z0p11e7p', 'pff3ap47d2p', 'pcef7p424ap', 'pc386p11e6p',\n",
       "       'pfez0p41zfp', 'pc867p44afp', 'p8820p11e7p', 'pbe8dp11e6p',\n",
       "       'pc44ap11e6p', 'p14eep11e7p', 'pz4e2p11e7p', 'pbd9bp11e6p',\n",
       "       'p4942p4396p', 'p9c13p11e7p', 'pe3e9p4122p', 'p7a71p11e7p',\n",
       "       'pe02dp4900p', 'p1fazp4zaap', 'pz149p43d0p', 'pz7cbp11e7p',\n",
       "       'p790zp11e7p', 'p7e9ep4b48p', 'p1c08p460dp', 'pz760p11e7p',\n",
       "       'pf97dp4f6bp', 'p873fp11e7p', 'p97e7p11e7p', 'pzb91p11e7p',\n",
       "       'p1927p4d8dp', 'pd86dp473ep', 'pzdd6p11e7p', 'p3314p4b68p',\n",
       "       'p866ap11e7p', 'pe8afp11e6p', 'p631cp11e7p', 'p8b64p11e7p',\n",
       "       'p13d2p47dap', 'p64zfp11e7p', 'p80zap11e7p', 'p9ad9p11e7p',\n",
       "       'pz367p11e7p', 'p7436p42z6p', 'pc303p11e6p', 'p7ezcp470ep',\n",
       "       'pc123p11e6p', 'p8z6cp11e7p', 'p61zfp11e7p', 'pfzccp4b38p',\n",
       "       'pa8b3p49e9p', 'pd77zp11e6p', 'p9fcbp11e7p', 'pe12zp4z7ep',\n",
       "       'pfd04p4f28p', 'p439bp4731p', 'p91b4p11e7p', 'p7ab6p4ab0p',\n",
       "       'p39aap47bep', 'pdz81p11e6p', 'p6e01p11e7p', 'p6360p11e7p',\n",
       "       'pbfaap11e6p', 'p1bbap11e7p', 'p42c3p11e7p', 'p9cadp40ebp',\n",
       "       'p43cep11e7p', 'pz76ep4d03p', 'pc1dep4af3p', 'p6eedp4b27p',\n",
       "       'p4837p4f04p', 'p7b43p4b3fp', 'pdz02p4996p', 'pb323p41aap',\n",
       "       'p8zfep11e7p', 'pbdf9p11e6p', 'pf9b8p11e6p', 'p604fp11e7p',\n",
       "       'p08c6p468ep', 'pbfd0p11e6p', 'pz64zp11e7p', 'pfz92p40z4p',\n",
       "       'p1c99p40a9p', 'p1321p488fp', 'p1ec9p47b4p', 'p3f96p4644p',\n",
       "       'pz3b2p11e7p', 'pz919p11e7p', 'p8fzbp11e7p', 'p6909p11e7p',\n",
       "       'pbfa9p11e6p', 'p48fap4b06p', 'p9a9dp11e7p', 'p77azp11e7p',\n",
       "       'p996zp11e7p', 'pa94cp4f41p', 'p980bp11e7p', 'p78c4p41zfp',\n",
       "       'pe8f3p4be8p', 'p6204p11e7p', 'p8zc0p11e7p', 'p43dep4z1dp',\n",
       "       'p37bap11e7p', 'pf4bbp4e69p', 'pfbbcp11e6p', 'pac2dp471ap',\n",
       "       'pc3d2p11e6p', 'p993bp11e7p', 'pz7z4p11e7p', 'p102dp4z23p',\n",
       "       'pc43dp47e2p', 'p6118p4d2bp', 'pda78p4a48p', 'p66z6p4163p',\n",
       "       'pe81dp11e6p', 'p98edp11e7p', 'pc3d8p11e6p', 'p6fc1p11e7p',\n",
       "       'pd80cp4bbap', 'pzed4p4zzep', 'p9873p11e7p', 'pzez7p11e7p',\n",
       "       'pbdcfp11e6p', 'p13c4p42d6p', 'p4ffep11e7p', 'pc83zp41cbp',\n",
       "       'p990bp11e7p', 'pc8zdp40b7p', 'p9cdep11e7p', 'pd8d3p11e6p',\n",
       "       'pbef2p11e6p', 'p881ap47b3p', 'pbe28p11e6p'], dtype=object)"
      ]
     },
     "execution_count": 959,
     "metadata": {},
     "output_type": "execute_result"
    }
   ],
   "source": [
    "df.client_id.unique()"
   ]
  },
  {
   "cell_type": "code",
   "execution_count": 960,
   "metadata": {
    "collapsed": true,
    "deletable": true,
    "editable": true
   },
   "outputs": [],
   "source": [
    "dz = play.loc[play['Date'] == \"2015-11-19\"]"
   ]
  },
  {
   "cell_type": "code",
   "execution_count": 961,
   "metadata": {
    "collapsed": false,
    "deletable": true,
    "editable": true
   },
   "outputs": [
    {
     "data": {
      "text/plain": [
       "Date\n",
       "2015-11-19    331\n",
       "Name: client_id, dtype: int64"
      ]
     },
     "execution_count": 961,
     "metadata": {},
     "output_type": "execute_result"
    }
   ],
   "source": [
    "dz.groupby('Date')['client_id'].nunique()"
   ]
  },
  {
   "cell_type": "code",
   "execution_count": 962,
   "metadata": {
    "collapsed": false,
    "deletable": true,
    "editable": true
   },
   "outputs": [
    {
     "data": {
      "text/plain": [
       "array(['p8az7p11e7p', 'p3992p11e7p', 'p0dbbp401dp', 'pfebzp11e6p',\n",
       "       'pzd03p4d26p', 'p1ec9p47b4p', 'pdc27p4aeap', 'p86abp4728p',\n",
       "       'pc39ep11e6p', 'p7a73p4022p', 'pz60zp4fc6p', 'pa463p4c99p',\n",
       "       'pb9dcp40c1p', 'p6416p4339p', 'p16dbp4e30p', 'pzze0p11e7p',\n",
       "       'p6909p11e7p', 'p6fbbp476zp', 'pfz20p11e6p', 'pccbcp11e6p',\n",
       "       'p7721p4e84p', 'p4e3ap4236p', 'paf4cp40b1p', 'pdeacp11e6p',\n",
       "       'p9989p11e7p', 'p7b8zp404ap', 'p6d2bp4aaap', 'p1z04p4zb0p',\n",
       "       'p490cp11e7p', 'pc43ap11e6p', 'pd24cp4db3p', 'p7c74p11e7p',\n",
       "       'pc3d8p11e6p', 'paa0ap4c0dp', 'pbe99p11e6p', 'pf048p4bb6p',\n",
       "       'pbf00p11e6p', 'p69dap11e7p', 'p993bp11e7p', 'pb7f7p4c34p',\n",
       "       'p9fcbp11e7p', 'p16e7p4a26p', 'pbea3p11e6p', 'p1f88p4f9dp',\n",
       "       'p4942p4396p', 'p630bp4771p', 'pd2d8p11e6p', 'p8z0dp11e7p',\n",
       "       'pczf6p4848p', 'p14bzp11e7p', 'p9cadp40ebp', 'pe989p4e07p',\n",
       "       'p881cp4416p', 'p8dbap11e7p', 'p3314p4b68p', 'pf6e4p4b70p',\n",
       "       'pd46fp48fcp', 'p6f0cp11e7p', 'pcae3p11e6p', 'p2ezzp4498p',\n",
       "       'p74bcp11e7p', 'pcf61p11e6p', 'p231ep4ebbp', 'pc3f8p11e6p',\n",
       "       'p149fp4082p', 'p9c4ap11e7p', 'pe8e7p40a9p', 'pc1dep4af3p',\n",
       "       'p6676p11e7p', 'pb33ep40aap', 'p96b6p11e7p', 'pcb78p11e6p',\n",
       "       'p14bap4z97p', 'pzda4p4z98p', 'p1fazp4zaap', 'p1ae0p4800p',\n",
       "       'pz796p11e7p', 'pe91bp4c0bp', 'pcz07p424zp', 'p14eep11e7p',\n",
       "       'p6718p11e7p', 'p34fcp11e7p', 'pc381p11e6p', 'pd084p4b07p',\n",
       "       'p08dzp4ed8p', 'p90zep11e7p', 'p2be0p4db2p', 'pbfd0p11e6p',\n",
       "       'p9268p441ep', 'p170zp4802p', 'p303ep4bzdp', 'p30dbp414ap',\n",
       "       'pzf01p11e7p', 'p6c1cp11e7p', 'pbdc9p11e6p', 'pbe19p11e6p',\n",
       "       'p97dbp436bp', 'pc14ap11e6p', 'p92c4p11e7p', 'p834zp49b6p',\n",
       "       'p90z0p11e7p', 'p6d6fp4c63p', 'pzd8fp11e7p', 'pc4cap46zep',\n",
       "       'p980bp11e7p', 'pz760p11e7p', 'p03c7p4ccap', 'pbd92p11e6p',\n",
       "       'p9961p11e7p', 'pb67dp4zbzp', 'p2778p46acp', 'pc4a3p11e6p',\n",
       "       'p631cp11e7p', 'paedbp44c3p', 'p3749p11e7p', 'pa31fp412ap',\n",
       "       'pzzdfp11e7p', 'p264ep4c76p', 'p410dp4088p', 'p77c7p4eb3p',\n",
       "       'pz710p11e7p', 'pfd04p4f28p', 'p6fdap440zp', 'pca88p4c4fp',\n",
       "       'pfbbcp11e6p', 'pbfa4p443fp', 'pzdz2p11e7p', 'p6d97p4a32p',\n",
       "       'p9b69p11e7p', 'pe3b0p4daap', 'pe720p11e6p', 'p7fzep42dap',\n",
       "       'pf77ep4379p', 'p48fap4b06p', 'pc7bep11e6p', 'pdccdp44bdp',\n",
       "       'p873fp11e7p', 'p8zc0p11e7p', 'p4e43p4c3fp', 'pe072p43e3p',\n",
       "       'pbdb2p11e6p', 'p4b9ap4ce9p', 'pzb7zp4d84p', 'p94d8p44bap',\n",
       "       'pbdf0p11e6p', 'p9b37p11e7p', 'p67a8p11e7p', 'pzbbap11e7p',\n",
       "       'pbd88p11e6p', 'p204ap4af9p', 'p4z4zp4916p', 'p6094p4zbbp',\n",
       "       'p7dz6p4011p', 'paa3cp4ac6p', 'pc461p11e6p', 'p3763p11e7p',\n",
       "       'pbe12p11e6p', 'p1927p4d8dp', 'p9f99p11e7p', 'p71fzp11e7p',\n",
       "       'pbe1bp11e6p', 'p4989p488ap', 'pcc2bp11e6p', 'p248dp4b3cp',\n",
       "       'pbf6fp11e6p', 'pd0f8p11e6p', 'pcaadp11e6p', 'p9ae2p11e7p',\n",
       "       'pz7bep11e7p', 'pz74fp42e9p', 'pe717p11e6p', 'pd022p11e6p',\n",
       "       'pbeazp11e6p', 'pc447p11e6p', 'p9b1ep4f60p', 'p203cp4287p',\n",
       "       'pec38p4e4ap', 'p9a77p4zf6p', 'p97eep11e7p', 'pcf20p11e6p',\n",
       "       'p466zp46b8p', 'p308dp40a0p', 'p4e84p42fbp', 'p3z26p4997p',\n",
       "       'pca2ep11e6p', 'pedbzp442cp', 'pb0z7p421bp', 'p236dp11e7p',\n",
       "       'p4c3fp40czp', 'pz66zp11e7p', 'pf499p472fp', 'pecc2p4zc2p',\n",
       "       'p1802p4ae2p', 'pe168p4cf7p', 'p7fe1p4e4cp', 'p20d4p440fp',\n",
       "       'pbdfep11e6p', 'pff3ap47d2p', 'pc430p11e6p', 'pc83zp41cbp',\n",
       "       'p63z4p492fp', 'p661ap4d64p', 'pe7eap4z01p', 'pbfffp4a82p',\n",
       "       'pfe1cp4debp', 'p9a80p11e7p', 'p80e0p11e7p', 'pbe72p11e6p',\n",
       "       'p7be6p49dcp', 'p7a1fp4989p', 'pcz3ep11e6p', 'p1007p4fz4p',\n",
       "       'p7d9ep11e7p', 'pb432p471fp', 'p8z49p4432p', 'pz398p11e7p',\n",
       "       'pa960p4ec2p', 'p7b43p4b3fp', 'p13bdp49bfp', 'p82cfp44e1p',\n",
       "       'pdbf4p44zfp', 'pz3dbp11e7p', 'p93a1p11e7p', 'pzzf2p11e7p',\n",
       "       'pz7b7p11e7p', 'pd709p11e6p', 'p7za3p4e77p', 'p9b7dp11e7p',\n",
       "       'pf192p40a6p', 'p4b16p4908p', 'p4ab7p4zz4p', 'pcaz1p443fp',\n",
       "       'p60d8p492zp', 'p7700p11e7p', 'p38c8p4d6dp', 'p439bp4731p',\n",
       "       'p13d2p47dap', 'pz6d8p11e7p', 'pe02dp4900p', 'pbdfcp11e6p',\n",
       "       'pef46p4718p', 'pf21ep4b97p', 'pz806p11e7p', 'pzc3cp11e7p',\n",
       "       'pf20cp40e4p', 'p9871p11e7p', 'pz9ccp11e7p', 'p72b1p429bp',\n",
       "       'p8767p11e7p', 'peb06p4dbbp', 'p9cb2p11e7p', 'p149cp11e7p',\n",
       "       'pbf98p11e6p', 'pc386p11e6p', 'paa7ap4913p', 'p7439p42dzp',\n",
       "       'p0f3cp44aep', 'ped9ep4fcep', 'pz4fap11e7p', 'p8aa9p4f4dp',\n",
       "       'pc81ap11e6p', 'pz9f1p11e7p', 'pcbaep11e6p', 'p89bbp4803p',\n",
       "       'pz6bap11e7p', 'p08bap4f1ep', 'p8d8zp41abp', 'pabe6p412fp',\n",
       "       'p24cep11e7p', 'pzf70p11e7p', 'p8az0p11e7p', 'pc478p11e6p',\n",
       "       'pbdfbp11e6p', 'p866ap11e7p', 'p9e9cp4e27p', 'pe086p4a17p',\n",
       "       'p2274p4eacp', 'pc43dp47e2p', 'pbe28p11e6p', 'p2z76p11e7p',\n",
       "       'p8z8bp11e7p', 'pbcb8p472cp', 'p14a9p11e7p', 'p0c4fp4b12p',\n",
       "       'pb323p41aap', 'pdaffp46dcp', 'pbd86p11e6p', 'pz904p4c20p',\n",
       "       'p9ac2p11e7p', 'pbee0p40adp', 'pcbc2p11e6p', 'pzd11p11e7p',\n",
       "       'pdb41p4291p', 'p338ap4982p', 'pcef7p424ap', 'pzb1cp49zfp',\n",
       "       'p1321p488fp', 'pc130p411ep', 'pe6d8p11e6p', 'pcfc3p11e6p',\n",
       "       'p826ep49z0p', 'pz1f0p11e7p', 'p60z1p11e7p', 'p3329p46f7p',\n",
       "       'pzed4p4zzep', 'pzbc2p11e7p', 'pdz1fp11e6p', 'pbff4p11e6p',\n",
       "       'p9a28p11e7p', 'pc8b8p4694p', 'p94f3p11e7p', 'p161fp11e7p',\n",
       "       'pfzf4p11e6p', 'p49d3p4031p', 'pc8zdp40b7p', 'pd478p4927p',\n",
       "       'p99dap11e7p', 'p4bffp11e7p', 'p68z1p440dp', 'pc44ap11e6p',\n",
       "       'p21c4p11e7p', 'pbd87p11e6p', 'p9acep11e7p', 'p08c6p468ep',\n",
       "       'p6204p11e7p', 'p34c3p4297p', 'pcfz0p11e6p', 'p604fp11e7p',\n",
       "       'p9a82p11e7p', 'p9c9dp11e7p', 'p9c13p11e7p'], dtype=object)"
      ]
     },
     "execution_count": 962,
     "metadata": {},
     "output_type": "execute_result"
    }
   ],
   "source": [
    "dz.client_id.unique()"
   ]
  },
  {
   "cell_type": "code",
   "execution_count": 963,
   "metadata": {
    "collapsed": false,
    "deletable": true,
    "editable": true
   },
   "outputs": [
    {
     "data": {
      "text/plain": [
       "135"
      ]
     },
     "execution_count": 963,
     "metadata": {},
     "output_type": "execute_result"
    }
   ],
   "source": [
    "len(set(dz.client_id.unique()) & set(df.client_id.unique()))"
   ]
  },
  {
   "cell_type": "code",
   "execution_count": 964,
   "metadata": {
    "collapsed": false,
    "deletable": true,
    "editable": true
   },
   "outputs": [
    {
     "data": {
      "text/plain": [
       "38.46153846153847"
      ]
     },
     "execution_count": 964,
     "metadata": {},
     "output_type": "execute_result"
    }
   ],
   "source": [
    "retention_7=len(set(dz.client_id.unique()) & set(df.client_id.unique()))/351*100\n",
    "retention_7"
   ]
  },
  {
   "cell_type": "markdown",
   "metadata": {
    "deletable": true,
    "editable": true
   },
   "source": [
    "### Question B"
   ]
  },
  {
   "cell_type": "markdown",
   "metadata": {
    "deletable": true,
    "editable": true
   },
   "source": [
    "Just to take a quick look at which build version and item brings the highest revenue (set apart from the client id):"
   ]
  },
  {
   "cell_type": "markdown",
   "metadata": {
    "deletable": true,
    "editable": true
   },
   "source": [
    "#### Impact of build_version on sales"
   ]
  },
  {
   "cell_type": "code",
   "execution_count": 965,
   "metadata": {
    "collapsed": false,
    "deletable": true,
    "editable": true,
    "scrolled": true
   },
   "outputs": [
    {
     "data": {
      "text/html": [
       "<div>\n",
       "<style scoped>\n",
       "    .dataframe tbody tr th:only-of-type {\n",
       "        vertical-align: middle;\n",
       "    }\n",
       "\n",
       "    .dataframe tbody tr th {\n",
       "        vertical-align: top;\n",
       "    }\n",
       "\n",
       "    .dataframe thead th {\n",
       "        text-align: right;\n",
       "    }\n",
       "</style>\n",
       "<table border=\"1\" class=\"dataframe\">\n",
       "  <thead>\n",
       "    <tr style=\"text-align: right;\">\n",
       "      <th></th>\n",
       "      <th>experience_points</th>\n",
       "      <th>dollar_spent</th>\n",
       "    </tr>\n",
       "    <tr>\n",
       "      <th>build_version</th>\n",
       "      <th></th>\n",
       "      <th></th>\n",
       "    </tr>\n",
       "  </thead>\n",
       "  <tbody>\n",
       "    <tr>\n",
       "      <th>1.0.1</th>\n",
       "      <td>2.166129e+07</td>\n",
       "      <td>230226.54</td>\n",
       "    </tr>\n",
       "    <tr>\n",
       "      <th>1.0.2</th>\n",
       "      <td>1.180162e+07</td>\n",
       "      <td>120691.91</td>\n",
       "    </tr>\n",
       "  </tbody>\n",
       "</table>\n",
       "</div>"
      ],
      "text/plain": [
       "               experience_points  dollar_spent\n",
       "build_version                                 \n",
       "1.0.1               2.166129e+07     230226.54\n",
       "1.0.2               1.180162e+07     120691.91"
      ]
     },
     "execution_count": 965,
     "metadata": {},
     "output_type": "execute_result"
    }
   ],
   "source": [
    "play.groupby(['build_version']).sum()"
   ]
  },
  {
   "cell_type": "markdown",
   "metadata": {
    "deletable": true,
    "editable": true
   },
   "source": [
    "It seems that the __first built version, 1.01., brought the highest revenue__. We can guess from the experience points that it might be due to the fact that players sticked with the first version and did not update the game, or just because the game's retention was not high."
   ]
  },
  {
   "cell_type": "markdown",
   "metadata": {
    "deletable": true,
    "editable": true
   },
   "source": [
    "#### Items that are the most prefered/profitable"
   ]
  },
  {
   "cell_type": "code",
   "execution_count": 966,
   "metadata": {
    "collapsed": false,
    "deletable": true,
    "editable": true
   },
   "outputs": [
    {
     "data": {
      "text/html": [
       "<div>\n",
       "<style scoped>\n",
       "    .dataframe tbody tr th:only-of-type {\n",
       "        vertical-align: middle;\n",
       "    }\n",
       "\n",
       "    .dataframe tbody tr th {\n",
       "        vertical-align: top;\n",
       "    }\n",
       "\n",
       "    .dataframe thead th {\n",
       "        text-align: right;\n",
       "    }\n",
       "</style>\n",
       "<table border=\"1\" class=\"dataframe\">\n",
       "  <thead>\n",
       "    <tr style=\"text-align: right;\">\n",
       "      <th></th>\n",
       "      <th>store_item_name</th>\n",
       "      <th>experience_points</th>\n",
       "      <th>dollar_spent</th>\n",
       "    </tr>\n",
       "  </thead>\n",
       "  <tbody>\n",
       "    <tr>\n",
       "      <th>0</th>\n",
       "      <td>bundle_1</td>\n",
       "      <td>9.850839e+05</td>\n",
       "      <td>37800.36</td>\n",
       "    </tr>\n",
       "    <tr>\n",
       "      <th>1</th>\n",
       "      <td>bundle_10</td>\n",
       "      <td>1.097678e+06</td>\n",
       "      <td>48729.00</td>\n",
       "    </tr>\n",
       "    <tr>\n",
       "      <th>2</th>\n",
       "      <td>bundle_2</td>\n",
       "      <td>8.852011e+05</td>\n",
       "      <td>3198.00</td>\n",
       "    </tr>\n",
       "    <tr>\n",
       "      <th>3</th>\n",
       "      <td>bundle_3</td>\n",
       "      <td>1.037321e+06</td>\n",
       "      <td>54689.13</td>\n",
       "    </tr>\n",
       "    <tr>\n",
       "      <th>4</th>\n",
       "      <td>bundle_8</td>\n",
       "      <td>1.080563e+06</td>\n",
       "      <td>48155.50</td>\n",
       "    </tr>\n",
       "  </tbody>\n",
       "</table>\n",
       "</div>"
      ],
      "text/plain": [
       "  store_item_name  experience_points  dollar_spent\n",
       "0        bundle_1       9.850839e+05      37800.36\n",
       "1       bundle_10       1.097678e+06      48729.00\n",
       "2        bundle_2       8.852011e+05       3198.00\n",
       "3        bundle_3       1.037321e+06      54689.13\n",
       "4        bundle_8       1.080563e+06      48155.50"
      ]
     },
     "execution_count": 966,
     "metadata": {},
     "output_type": "execute_result"
    }
   ],
   "source": [
    "dr=play.groupby(['store_item_name'],as_index=False).sum()\n",
    "dr.head()"
   ]
  },
  {
   "cell_type": "code",
   "execution_count": 1001,
   "metadata": {
    "collapsed": false,
    "deletable": true,
    "editable": true
   },
   "outputs": [
    {
     "data": {
      "image/png": "[encoded data removed]",
      "text/plain": [
       "<Figure size 576x360 with 1 Axes>"
      ]
     },
     "metadata": {},
     "output_type": "display_data"
    }
   ],
   "source": [
    "sns.set_style('ticks')\n",
    "fig, ax = plt.subplots()\n",
    "# the size of A4 paper\n",
    "\n",
    "fig.set_size_inches(8, 5)\n",
    "ax = sns.countplot(x=\"store_item_name\", hue=\"dollar_spent\", data=play)\n",
    "plt.title('Items that are  most prefered');"
   ]
  },
  {
   "cell_type": "code",
   "execution_count": 968,
   "metadata": {
    "collapsed": false,
    "deletable": true,
    "editable": true
   },
   "outputs": [
    {
     "data": {
      "text/plain": [
       "54982.0"
      ]
     },
     "execution_count": 968,
     "metadata": {},
     "output_type": "execute_result"
    }
   ],
   "source": [
    "play.groupby('store_item_name')['dollar_spent'].sum().max()"
   ]
  },
  {
   "cell_type": "code",
   "execution_count": 1003,
   "metadata": {
    "collapsed": false,
    "deletable": true,
    "editable": true,
    "scrolled": true
   },
   "outputs": [
    {
     "data": {
      "image/png": "[encoded data removed]",
      "text/plain": [
       "<Figure size 576x360 with 1 Axes>"
      ]
     },
     "metadata": {},
     "output_type": "display_data"
    }
   ],
   "source": [
    "fig, ax = plt.subplots()\n",
    "fig.set_size_inches(8, 5)\n",
    "sns.set(style=\"whitegrid\")\n",
    "ax = sns.barplot(x=\"store_item_name\", y=\"dollar_spent\", data=dr)\n",
    "plt.title('Items that are  most profitable');"
   ]
  },
  {
   "cell_type": "code",
   "execution_count": 970,
   "metadata": {
    "collapsed": false,
    "deletable": true,
    "editable": true
   },
   "outputs": [
    {
     "data": {
      "text/plain": [
       "54982.0"
      ]
     },
     "execution_count": 970,
     "metadata": {},
     "output_type": "execute_result"
    }
   ],
   "source": [
    "play.groupby('store_item_name')['dollar_spent'].sum().max()"
   ]
  },
  {
   "cell_type": "markdown",
   "metadata": {
    "deletable": true,
    "editable": true
   },
   "source": [
    "From the plot above, it results that __bundle_9 brings the highest revenue__(most profitable), although the __item most aquired is pack_a__(most preferred), due to the fact that is the cheapest."
   ]
  },
  {
   "cell_type": "markdown",
   "metadata": {
    "deletable": true,
    "editable": true
   },
   "source": [
    "#### We  now can look to see if the player's spending behaviour "
   ]
  },
  {
   "cell_type": "markdown",
   "metadata": {
    "deletable": true,
    "editable": true
   },
   "source": [
    "The method that I am applying for customer segmentation is similar the the FRM technique that uses past purchase behavior to divide customers\n",
    "into groups. I have considered recency, pack (lately removed), monetary value and player's level in order to place them in segments."
   ]
  },
  {
   "cell_type": "markdown",
   "metadata": {
    "deletable": true,
    "editable": true
   },
   "source": [
    "Since the data is pretty ready to usem we'll have to find out the first and last order dates in the data."
   ]
  },
  {
   "cell_type": "code",
   "execution_count": 971,
   "metadata": {
    "collapsed": false,
    "deletable": true,
    "editable": true
   },
   "outputs": [
    {
     "data": {
      "text/plain": [
       "Timestamp('2015-11-12 00:00:00')"
      ]
     },
     "execution_count": 971,
     "metadata": {},
     "output_type": "execute_result"
    }
   ],
   "source": [
    "#first order date\n",
    "play['Purchase'].min()"
   ]
  },
  {
   "cell_type": "code",
   "execution_count": 972,
   "metadata": {
    "collapsed": false,
    "deletable": true,
    "editable": true
   },
   "outputs": [
    {
     "data": {
      "text/plain": [
       "Timestamp('2015-12-12 00:00:00')"
      ]
     },
     "execution_count": 972,
     "metadata": {},
     "output_type": "execute_result"
    }
   ],
   "source": [
    "#last order dates\n",
    "play['Purchase'].max()"
   ]
  },
  {
   "cell_type": "code",
   "execution_count": 973,
   "metadata": {
    "collapsed": true,
    "deletable": true,
    "editable": true
   },
   "outputs": [],
   "source": [
    "import datetime as dt\n",
    "NOW = dt.datetime(2015,12,12)"
   ]
  },
  {
   "cell_type": "code",
   "execution_count": 974,
   "metadata": {
    "collapsed": false,
    "deletable": true,
    "editable": true
   },
   "outputs": [],
   "source": [
    "play['Purchase'] = pd.to_datetime(play['Purchase'])"
   ]
  },
  {
   "cell_type": "markdown",
   "metadata": {
    "deletable": true,
    "editable": true
   },
   "source": [
    "#### Customer segmentation starts from here:"
   ]
  },
  {
   "cell_type": "code",
   "execution_count": 975,
   "metadata": {
    "collapsed": false,
    "deletable": true,
    "editable": true
   },
   "outputs": [],
   "source": [
    "#Create a  tablewith the columns of interest and their transformations\n",
    "rlmTable = play.groupby('client_id',as_index=False).agg({'Purchase': lambda x: (NOW - x.max()).days, # Recency\n",
    "                                        'store_item_name': lambda x: x.count(),      # Pack\n",
    "                                        'dollar_spent': lambda x: x.sum(),  # Monetary Value\n",
    "                                         'experience_points': lambda x: x.sum()}) # Player level\n",
    "                                         \n",
    "\n",
    "#rfmTable['Period'] = rfmTable['Period'].astype(int)\n",
    "rlmTable.rename(columns={'Purchase': 'recency', \n",
    "                         'store_item_name': 'Pack', \n",
    "                         'dollar_spent': 'monetary_value',\n",
    "                         'experience_points':'Level'}, inplace=True)"
   ]
  },
  {
   "cell_type": "code",
   "execution_count": 976,
   "metadata": {
    "collapsed": false,
    "deletable": true,
    "editable": true
   },
   "outputs": [
    {
     "data": {
      "text/html": [
       "<div>\n",
       "<style scoped>\n",
       "    .dataframe tbody tr th:only-of-type {\n",
       "        vertical-align: middle;\n",
       "    }\n",
       "\n",
       "    .dataframe tbody tr th {\n",
       "        vertical-align: top;\n",
       "    }\n",
       "\n",
       "    .dataframe thead th {\n",
       "        text-align: right;\n",
       "    }\n",
       "</style>\n",
       "<table border=\"1\" class=\"dataframe\">\n",
       "  <thead>\n",
       "    <tr style=\"text-align: right;\">\n",
       "      <th></th>\n",
       "      <th>client_id</th>\n",
       "      <th>recency</th>\n",
       "      <th>Pack</th>\n",
       "      <th>monetary_value</th>\n",
       "      <th>Level</th>\n",
       "    </tr>\n",
       "  </thead>\n",
       "  <tbody>\n",
       "    <tr>\n",
       "      <th>0</th>\n",
       "      <td>p0016p4a0ap</td>\n",
       "      <td>2.0</td>\n",
       "      <td>10</td>\n",
       "      <td>185.00</td>\n",
       "      <td>4078.383183</td>\n",
       "    </tr>\n",
       "    <tr>\n",
       "      <th>1</th>\n",
       "      <td>p0044p434bp</td>\n",
       "      <td>9.0</td>\n",
       "      <td>20</td>\n",
       "      <td>197.45</td>\n",
       "      <td>8909.580270</td>\n",
       "    </tr>\n",
       "    <tr>\n",
       "      <th>2</th>\n",
       "      <td>p004dp4a20p</td>\n",
       "      <td>2.0</td>\n",
       "      <td>60</td>\n",
       "      <td>389.40</td>\n",
       "      <td>25476.006447</td>\n",
       "    </tr>\n",
       "    <tr>\n",
       "      <th>3</th>\n",
       "      <td>p00c0p4ab6p</td>\n",
       "      <td>NaN</td>\n",
       "      <td>0</td>\n",
       "      <td>0.00</td>\n",
       "      <td>10193.103499</td>\n",
       "    </tr>\n",
       "    <tr>\n",
       "      <th>4</th>\n",
       "      <td>p00c9p11e7p</td>\n",
       "      <td>1.0</td>\n",
       "      <td>6</td>\n",
       "      <td>5.94</td>\n",
       "      <td>2217.575294</td>\n",
       "    </tr>\n",
       "  </tbody>\n",
       "</table>\n",
       "</div>"
      ],
      "text/plain": [
       "     client_id  recency  Pack  monetary_value         Level\n",
       "0  p0016p4a0ap      2.0    10          185.00   4078.383183\n",
       "1  p0044p434bp      9.0    20          197.45   8909.580270\n",
       "2  p004dp4a20p      2.0    60          389.40  25476.006447\n",
       "3  p00c0p4ab6p      NaN     0            0.00  10193.103499\n",
       "4  p00c9p11e7p      1.0     6            5.94   2217.575294"
      ]
     },
     "execution_count": 976,
     "metadata": {},
     "output_type": "execute_result"
    }
   ],
   "source": [
    "rlmTable.head()"
   ]
  },
  {
   "cell_type": "markdown",
   "metadata": {
    "deletable": true,
    "editable": true
   },
   "source": [
    "Interpretation:\n",
    "\n",
    "Client ID p0016p4a0ap has recency: 2, monetary value: $185.00, has bought 10 packs/items and level: 4078.383183 points."
   ]
  },
  {
   "cell_type": "markdown",
   "metadata": {
    "deletable": true,
    "editable": true
   },
   "source": [
    "#### Split the metrics\n",
    "\n",
    "The easies way to split metrics into segments is by using quartile.\n",
    "\n",
    "1. This gives us a starting point for detailed analysis\n",
    "2. 4 segments are easy to understand and explain"
   ]
  },
  {
   "cell_type": "code",
   "execution_count": 977,
   "metadata": {
    "collapsed": false,
    "deletable": true,
    "editable": true
   },
   "outputs": [
    {
     "data": {
      "text/html": [
       "<div>\n",
       "<style scoped>\n",
       "    .dataframe tbody tr th:only-of-type {\n",
       "        vertical-align: middle;\n",
       "    }\n",
       "\n",
       "    .dataframe tbody tr th {\n",
       "        vertical-align: top;\n",
       "    }\n",
       "\n",
       "    .dataframe thead th {\n",
       "        text-align: right;\n",
       "    }\n",
       "</style>\n",
       "<table border=\"1\" class=\"dataframe\">\n",
       "  <thead>\n",
       "    <tr style=\"text-align: right;\">\n",
       "      <th></th>\n",
       "      <th>recency</th>\n",
       "      <th>Pack</th>\n",
       "      <th>monetary_value</th>\n",
       "      <th>Level</th>\n",
       "    </tr>\n",
       "  </thead>\n",
       "  <tbody>\n",
       "    <tr>\n",
       "      <th>0.25</th>\n",
       "      <td>2.0</td>\n",
       "      <td>2.0</td>\n",
       "      <td>1.980</td>\n",
       "      <td>1695.025389</td>\n",
       "    </tr>\n",
       "    <tr>\n",
       "      <th>0.50</th>\n",
       "      <td>5.0</td>\n",
       "      <td>8.0</td>\n",
       "      <td>31.580</td>\n",
       "      <td>6519.384756</td>\n",
       "    </tr>\n",
       "    <tr>\n",
       "      <th>0.75</th>\n",
       "      <td>11.0</td>\n",
       "      <td>42.0</td>\n",
       "      <td>160.995</td>\n",
       "      <td>21996.793340</td>\n",
       "    </tr>\n",
       "  </tbody>\n",
       "</table>\n",
       "</div>"
      ],
      "text/plain": [
       "      recency  Pack  monetary_value         Level\n",
       "0.25      2.0   2.0           1.980   1695.025389\n",
       "0.50      5.0   8.0          31.580   6519.384756\n",
       "0.75     11.0  42.0         160.995  21996.793340"
      ]
     },
     "execution_count": 977,
     "metadata": {},
     "output_type": "execute_result"
    }
   ],
   "source": [
    "quantiles = rlmTable.quantile(q=[0.25,0.5,0.75])\n",
    "quantiles"
   ]
  },
  {
   "cell_type": "code",
   "execution_count": 978,
   "metadata": {
    "collapsed": false,
    "deletable": true,
    "editable": true
   },
   "outputs": [
    {
     "data": {
      "text/plain": [
       "{'Level': {0.25: 1695.0253887308968,\n",
       "  0.5: 6519.38475647831,\n",
       "  0.75: 21996.79333973729},\n",
       " 'Pack': {0.25: 2.0, 0.5: 8.0, 0.75: 42.0},\n",
       " 'monetary_value': {0.25: 1.98, 0.5: 31.58, 0.75: 160.995},\n",
       " 'recency': {0.25: 2.0, 0.5: 5.0, 0.75: 11.0}}"
      ]
     },
     "execution_count": 978,
     "metadata": {},
     "output_type": "execute_result"
    }
   ],
   "source": [
    "quantiles = quantiles.to_dict()\n",
    "quantiles"
   ]
  },
  {
   "cell_type": "markdown",
   "metadata": {
    "deletable": true,
    "editable": true
   },
   "source": [
    "Create a segmented  table"
   ]
  },
  {
   "cell_type": "code",
   "execution_count": 979,
   "metadata": {
    "collapsed": true,
    "deletable": true,
    "editable": true
   },
   "outputs": [],
   "source": [
    "segmented_rlm = rlmTable"
   ]
  },
  {
   "cell_type": "markdown",
   "metadata": {
    "deletable": true,
    "editable": true
   },
   "source": [
    "__The lowest recency, highest level and monetary amounts are the best customers.__"
   ]
  },
  {
   "cell_type": "code",
   "execution_count": 980,
   "metadata": {
    "collapsed": true,
    "deletable": true,
    "editable": true
   },
   "outputs": [],
   "source": [
    "def RScore(x,p,d):\n",
    "    if x <= d[p][0.25]:\n",
    "        return 1\n",
    "    elif x <= d[p][0.50]:\n",
    "        return 2\n",
    "    elif x <= d[p][0.75]: \n",
    "        return 3\n",
    "    else:\n",
    "        return 4\n",
    "    \n",
    "def LevelScore(x,p,d):\n",
    "    if x <= d[p][0.25]:\n",
    "        return 4\n",
    "    elif x <= d[p][0.50]:\n",
    "        return 3\n",
    "    elif x <= d[p][0.75]: \n",
    "        return 2\n",
    "    else:\n",
    "        return 1\n",
    "    "
   ]
  },
  {
   "cell_type": "markdown",
   "metadata": {
    "deletable": true,
    "editable": true
   },
   "source": [
    "Add segment numbers to the newly created segmented table"
   ]
  },
  {
   "cell_type": "code",
   "execution_count": 981,
   "metadata": {
    "collapsed": true,
    "deletable": true,
    "editable": true
   },
   "outputs": [],
   "source": [
    "segmented_rlm['r_quartile'] = segmented_rlm['recency'].apply(RScore, args=('recency',quantiles,))\n",
    "segmented_rlm['level_quartile'] = segmented_rlm['Level'].apply(LevelScore, args=('Level',quantiles,))\n",
    "segmented_rlm['m_quartile'] = segmented_rlm['monetary_value'].apply(LevelScore, args=('monetary_value',quantiles,))"
   ]
  },
  {
   "cell_type": "code",
   "execution_count": 982,
   "metadata": {
    "collapsed": false,
    "deletable": true,
    "editable": true
   },
   "outputs": [
    {
     "data": {
      "text/html": [
       "<div>\n",
       "<style scoped>\n",
       "    .dataframe tbody tr th:only-of-type {\n",
       "        vertical-align: middle;\n",
       "    }\n",
       "\n",
       "    .dataframe tbody tr th {\n",
       "        vertical-align: top;\n",
       "    }\n",
       "\n",
       "    .dataframe thead th {\n",
       "        text-align: right;\n",
       "    }\n",
       "</style>\n",
       "<table border=\"1\" class=\"dataframe\">\n",
       "  <thead>\n",
       "    <tr style=\"text-align: right;\">\n",
       "      <th></th>\n",
       "      <th>client_id</th>\n",
       "      <th>recency</th>\n",
       "      <th>Pack</th>\n",
       "      <th>monetary_value</th>\n",
       "      <th>Level</th>\n",
       "      <th>r_quartile</th>\n",
       "      <th>level_quartile</th>\n",
       "      <th>m_quartile</th>\n",
       "    </tr>\n",
       "  </thead>\n",
       "  <tbody>\n",
       "    <tr>\n",
       "      <th>0</th>\n",
       "      <td>p0016p4a0ap</td>\n",
       "      <td>2.0</td>\n",
       "      <td>10</td>\n",
       "      <td>185.00</td>\n",
       "      <td>4078.383183</td>\n",
       "      <td>1</td>\n",
       "      <td>3</td>\n",
       "      <td>1</td>\n",
       "    </tr>\n",
       "    <tr>\n",
       "      <th>1</th>\n",
       "      <td>p0044p434bp</td>\n",
       "      <td>9.0</td>\n",
       "      <td>20</td>\n",
       "      <td>197.45</td>\n",
       "      <td>8909.580270</td>\n",
       "      <td>3</td>\n",
       "      <td>2</td>\n",
       "      <td>1</td>\n",
       "    </tr>\n",
       "    <tr>\n",
       "      <th>2</th>\n",
       "      <td>p004dp4a20p</td>\n",
       "      <td>2.0</td>\n",
       "      <td>60</td>\n",
       "      <td>389.40</td>\n",
       "      <td>25476.006447</td>\n",
       "      <td>1</td>\n",
       "      <td>1</td>\n",
       "      <td>1</td>\n",
       "    </tr>\n",
       "    <tr>\n",
       "      <th>3</th>\n",
       "      <td>p00c0p4ab6p</td>\n",
       "      <td>NaN</td>\n",
       "      <td>0</td>\n",
       "      <td>0.00</td>\n",
       "      <td>10193.103499</td>\n",
       "      <td>4</td>\n",
       "      <td>2</td>\n",
       "      <td>4</td>\n",
       "    </tr>\n",
       "    <tr>\n",
       "      <th>4</th>\n",
       "      <td>p00c9p11e7p</td>\n",
       "      <td>1.0</td>\n",
       "      <td>6</td>\n",
       "      <td>5.94</td>\n",
       "      <td>2217.575294</td>\n",
       "      <td>1</td>\n",
       "      <td>3</td>\n",
       "      <td>3</td>\n",
       "    </tr>\n",
       "  </tbody>\n",
       "</table>\n",
       "</div>"
      ],
      "text/plain": [
       "     client_id  recency  Pack  monetary_value         Level  r_quartile  \\\n",
       "0  p0016p4a0ap      2.0    10          185.00   4078.383183           1   \n",
       "1  p0044p434bp      9.0    20          197.45   8909.580270           3   \n",
       "2  p004dp4a20p      2.0    60          389.40  25476.006447           1   \n",
       "3  p00c0p4ab6p      NaN     0            0.00  10193.103499           4   \n",
       "4  p00c9p11e7p      1.0     6            5.94   2217.575294           1   \n",
       "\n",
       "   level_quartile  m_quartile  \n",
       "0               3           1  \n",
       "1               2           1  \n",
       "2               1           1  \n",
       "3               2           4  \n",
       "4               3           3  "
      ]
     },
     "execution_count": 982,
     "metadata": {},
     "output_type": "execute_result"
    }
   ],
   "source": [
    "segmented_rlm.head()"
   ]
  },
  {
   "cell_type": "markdown",
   "metadata": {
    "deletable": true,
    "editable": true
   },
   "source": [
    "The new segments split the customer base into an imaginary 3D cube. It is hard to visualize. However, we can sort it out by creating a score besed on segments, and then based on the score, we will split it in 4 classes.\n",
    "\n"
   ]
  },
  {
   "cell_type": "markdown",
   "metadata": {
    "deletable": true,
    "editable": true
   },
   "source": [
    "Add a new column to combine RLM score, 111 is the highest score as was determined earlier."
   ]
  },
  {
   "cell_type": "code",
   "execution_count": 983,
   "metadata": {
    "collapsed": false,
    "deletable": true,
    "editable": true
   },
   "outputs": [
    {
     "data": {
      "text/html": [
       "<div>\n",
       "<style scoped>\n",
       "    .dataframe tbody tr th:only-of-type {\n",
       "        vertical-align: middle;\n",
       "    }\n",
       "\n",
       "    .dataframe tbody tr th {\n",
       "        vertical-align: top;\n",
       "    }\n",
       "\n",
       "    .dataframe thead th {\n",
       "        text-align: right;\n",
       "    }\n",
       "</style>\n",
       "<table border=\"1\" class=\"dataframe\">\n",
       "  <thead>\n",
       "    <tr style=\"text-align: right;\">\n",
       "      <th></th>\n",
       "      <th>client_id</th>\n",
       "      <th>recency</th>\n",
       "      <th>Pack</th>\n",
       "      <th>monetary_value</th>\n",
       "      <th>Level</th>\n",
       "      <th>r_quartile</th>\n",
       "      <th>level_quartile</th>\n",
       "      <th>m_quartile</th>\n",
       "      <th>RLMScore</th>\n",
       "    </tr>\n",
       "  </thead>\n",
       "  <tbody>\n",
       "    <tr>\n",
       "      <th>0</th>\n",
       "      <td>p0016p4a0ap</td>\n",
       "      <td>2.0</td>\n",
       "      <td>10</td>\n",
       "      <td>185.00</td>\n",
       "      <td>4078.383183</td>\n",
       "      <td>1</td>\n",
       "      <td>3</td>\n",
       "      <td>1</td>\n",
       "      <td>131</td>\n",
       "    </tr>\n",
       "    <tr>\n",
       "      <th>1</th>\n",
       "      <td>p0044p434bp</td>\n",
       "      <td>9.0</td>\n",
       "      <td>20</td>\n",
       "      <td>197.45</td>\n",
       "      <td>8909.580270</td>\n",
       "      <td>3</td>\n",
       "      <td>2</td>\n",
       "      <td>1</td>\n",
       "      <td>321</td>\n",
       "    </tr>\n",
       "    <tr>\n",
       "      <th>2</th>\n",
       "      <td>p004dp4a20p</td>\n",
       "      <td>2.0</td>\n",
       "      <td>60</td>\n",
       "      <td>389.40</td>\n",
       "      <td>25476.006447</td>\n",
       "      <td>1</td>\n",
       "      <td>1</td>\n",
       "      <td>1</td>\n",
       "      <td>111</td>\n",
       "    </tr>\n",
       "    <tr>\n",
       "      <th>3</th>\n",
       "      <td>p00c0p4ab6p</td>\n",
       "      <td>NaN</td>\n",
       "      <td>0</td>\n",
       "      <td>0.00</td>\n",
       "      <td>10193.103499</td>\n",
       "      <td>4</td>\n",
       "      <td>2</td>\n",
       "      <td>4</td>\n",
       "      <td>424</td>\n",
       "    </tr>\n",
       "    <tr>\n",
       "      <th>4</th>\n",
       "      <td>p00c9p11e7p</td>\n",
       "      <td>1.0</td>\n",
       "      <td>6</td>\n",
       "      <td>5.94</td>\n",
       "      <td>2217.575294</td>\n",
       "      <td>1</td>\n",
       "      <td>3</td>\n",
       "      <td>3</td>\n",
       "      <td>133</td>\n",
       "    </tr>\n",
       "  </tbody>\n",
       "</table>\n",
       "</div>"
      ],
      "text/plain": [
       "     client_id  recency  Pack  monetary_value         Level  r_quartile  \\\n",
       "0  p0016p4a0ap      2.0    10          185.00   4078.383183           1   \n",
       "1  p0044p434bp      9.0    20          197.45   8909.580270           3   \n",
       "2  p004dp4a20p      2.0    60          389.40  25476.006447           1   \n",
       "3  p00c0p4ab6p      NaN     0            0.00  10193.103499           4   \n",
       "4  p00c9p11e7p      1.0     6            5.94   2217.575294           1   \n",
       "\n",
       "   level_quartile  m_quartile RLMScore  \n",
       "0               3           1      131  \n",
       "1               2           1      321  \n",
       "2               1           1      111  \n",
       "3               2           4      424  \n",
       "4               3           3      133  "
      ]
     },
     "execution_count": 983,
     "metadata": {},
     "output_type": "execute_result"
    }
   ],
   "source": [
    "segmented_rlm['RLMScore'] = segmented_rlm.r_quartile.map(str) \\\n",
    "                            + segmented_rlm.level_quartile.map(str) \\\n",
    "                            + segmented_rlm.m_quartile.map(str)\n",
    "segmented_rlm.head()"
   ]
  },
  {
   "cell_type": "markdown",
   "metadata": {
    "deletable": true,
    "editable": true
   },
   "source": [
    "Here is top 10 of our best customers!"
   ]
  },
  {
   "cell_type": "code",
   "execution_count": 984,
   "metadata": {
    "collapsed": false,
    "deletable": true,
    "editable": true
   },
   "outputs": [
    {
     "data": {
      "text/html": [
       "<div>\n",
       "<style scoped>\n",
       "    .dataframe tbody tr th:only-of-type {\n",
       "        vertical-align: middle;\n",
       "    }\n",
       "\n",
       "    .dataframe tbody tr th {\n",
       "        vertical-align: top;\n",
       "    }\n",
       "\n",
       "    .dataframe thead th {\n",
       "        text-align: right;\n",
       "    }\n",
       "</style>\n",
       "<table border=\"1\" class=\"dataframe\">\n",
       "  <thead>\n",
       "    <tr style=\"text-align: right;\">\n",
       "      <th></th>\n",
       "      <th>client_id</th>\n",
       "      <th>recency</th>\n",
       "      <th>Pack</th>\n",
       "      <th>monetary_value</th>\n",
       "      <th>Level</th>\n",
       "      <th>r_quartile</th>\n",
       "      <th>level_quartile</th>\n",
       "      <th>m_quartile</th>\n",
       "      <th>RLMScore</th>\n",
       "    </tr>\n",
       "  </thead>\n",
       "  <tbody>\n",
       "    <tr>\n",
       "      <th>940</th>\n",
       "      <td>p9899p11e7p</td>\n",
       "      <td>0.0</td>\n",
       "      <td>300</td>\n",
       "      <td>2635.50</td>\n",
       "      <td>116890.390770</td>\n",
       "      <td>1</td>\n",
       "      <td>1</td>\n",
       "      <td>1</td>\n",
       "      <td>111</td>\n",
       "    </tr>\n",
       "    <tr>\n",
       "      <th>491</th>\n",
       "      <td>p60ezp11e7p</td>\n",
       "      <td>0.0</td>\n",
       "      <td>360</td>\n",
       "      <td>2547.72</td>\n",
       "      <td>142337.318838</td>\n",
       "      <td>1</td>\n",
       "      <td>1</td>\n",
       "      <td>1</td>\n",
       "      <td>111</td>\n",
       "    </tr>\n",
       "    <tr>\n",
       "      <th>221</th>\n",
       "      <td>p24cep11e7p</td>\n",
       "      <td>2.0</td>\n",
       "      <td>160</td>\n",
       "      <td>2419.60</td>\n",
       "      <td>67117.003253</td>\n",
       "      <td>1</td>\n",
       "      <td>1</td>\n",
       "      <td>1</td>\n",
       "      <td>111</td>\n",
       "    </tr>\n",
       "    <tr>\n",
       "      <th>1148</th>\n",
       "      <td>pa6e6p11e7p</td>\n",
       "      <td>1.0</td>\n",
       "      <td>174</td>\n",
       "      <td>2260.84</td>\n",
       "      <td>73991.307423</td>\n",
       "      <td>1</td>\n",
       "      <td>1</td>\n",
       "      <td>1</td>\n",
       "      <td>111</td>\n",
       "    </tr>\n",
       "    <tr>\n",
       "      <th>990</th>\n",
       "      <td>p9a7ep11e7p</td>\n",
       "      <td>1.0</td>\n",
       "      <td>264</td>\n",
       "      <td>2226.51</td>\n",
       "      <td>108766.080484</td>\n",
       "      <td>1</td>\n",
       "      <td>1</td>\n",
       "      <td>1</td>\n",
       "      <td>111</td>\n",
       "    </tr>\n",
       "    <tr>\n",
       "      <th>1973</th>\n",
       "      <td>pz760p11e7p</td>\n",
       "      <td>0.0</td>\n",
       "      <td>320</td>\n",
       "      <td>2203.52</td>\n",
       "      <td>132342.362895</td>\n",
       "      <td>1</td>\n",
       "      <td>1</td>\n",
       "      <td>1</td>\n",
       "      <td>111</td>\n",
       "    </tr>\n",
       "    <tr>\n",
       "      <th>1797</th>\n",
       "      <td>pecc2p4zc2p</td>\n",
       "      <td>2.0</td>\n",
       "      <td>376</td>\n",
       "      <td>2122.05</td>\n",
       "      <td>155660.645565</td>\n",
       "      <td>1</td>\n",
       "      <td>1</td>\n",
       "      <td>1</td>\n",
       "      <td>111</td>\n",
       "    </tr>\n",
       "    <tr>\n",
       "      <th>869</th>\n",
       "      <td>p8zc0p11e7p</td>\n",
       "      <td>0.0</td>\n",
       "      <td>280</td>\n",
       "      <td>2115.75</td>\n",
       "      <td>116577.878079</td>\n",
       "      <td>1</td>\n",
       "      <td>1</td>\n",
       "      <td>1</td>\n",
       "      <td>111</td>\n",
       "    </tr>\n",
       "    <tr>\n",
       "      <th>694</th>\n",
       "      <td>p7bd9p11e7p</td>\n",
       "      <td>0.0</td>\n",
       "      <td>192</td>\n",
       "      <td>1919.04</td>\n",
       "      <td>80224.358156</td>\n",
       "      <td>1</td>\n",
       "      <td>1</td>\n",
       "      <td>1</td>\n",
       "      <td>111</td>\n",
       "    </tr>\n",
       "    <tr>\n",
       "      <th>1274</th>\n",
       "      <td>pbdbep11e6p</td>\n",
       "      <td>1.0</td>\n",
       "      <td>186</td>\n",
       "      <td>1843.57</td>\n",
       "      <td>78347.985657</td>\n",
       "      <td>1</td>\n",
       "      <td>1</td>\n",
       "      <td>1</td>\n",
       "      <td>111</td>\n",
       "    </tr>\n",
       "  </tbody>\n",
       "</table>\n",
       "</div>"
      ],
      "text/plain": [
       "        client_id  recency  Pack  monetary_value          Level  r_quartile  \\\n",
       "940   p9899p11e7p      0.0   300         2635.50  116890.390770           1   \n",
       "491   p60ezp11e7p      0.0   360         2547.72  142337.318838           1   \n",
       "221   p24cep11e7p      2.0   160         2419.60   67117.003253           1   \n",
       "1148  pa6e6p11e7p      1.0   174         2260.84   73991.307423           1   \n",
       "990   p9a7ep11e7p      1.0   264         2226.51  108766.080484           1   \n",
       "1973  pz760p11e7p      0.0   320         2203.52  132342.362895           1   \n",
       "1797  pecc2p4zc2p      2.0   376         2122.05  155660.645565           1   \n",
       "869   p8zc0p11e7p      0.0   280         2115.75  116577.878079           1   \n",
       "694   p7bd9p11e7p      0.0   192         1919.04   80224.358156           1   \n",
       "1274  pbdbep11e6p      1.0   186         1843.57   78347.985657           1   \n",
       "\n",
       "      level_quartile  m_quartile RLMScore  \n",
       "940                1           1      111  \n",
       "491                1           1      111  \n",
       "221                1           1      111  \n",
       "1148               1           1      111  \n",
       "990                1           1      111  \n",
       "1973               1           1      111  \n",
       "1797               1           1      111  \n",
       "869                1           1      111  \n",
       "694                1           1      111  \n",
       "1274               1           1      111  "
      ]
     },
     "execution_count": 984,
     "metadata": {},
     "output_type": "execute_result"
    }
   ],
   "source": [
    "segmented_rlm[segmented_rlm['RLMScore']=='111'].sort_values('monetary_value', ascending=False).head(10)"
   ]
  },
  {
   "cell_type": "markdown",
   "metadata": {
    "deletable": true,
    "editable": true
   },
   "source": [
    "Customer segmentation could be done by clustering methods such as k-mean, and dimension reduction methods such as PCA, t-SNE, etc.\n",
    "\n",
    "Since the time interval for the data collected is not large enough such that the data point can be dispersed, I could not apply k-means for clustering and dimension reduction for visualisation."
   ]
  },
  {
   "cell_type": "markdown",
   "metadata": {
    "deletable": true,
    "editable": true
   },
   "source": [
    "At such, I have divided all possible  RLM score combinations atributed them into four performance classes: \n",
    "\n",
    "- 1: Very good \n",
    "- 2: Good\n",
    "- 3: Moderate\n",
    "- 4: Low"
   ]
  },
  {
   "cell_type": "code",
   "execution_count": 992,
   "metadata": {
    "collapsed": false,
    "deletable": true,
    "editable": true
   },
   "outputs": [],
   "source": [
    "#transform RLM score from object to integer type in order to map them\n",
    "segmented_rlm[\"RLMScore\"] = segmented_rfm.RLMScore.astype(int)"
   ]
  },
  {
   "cell_type": "code",
   "execution_count": 996,
   "metadata": {
    "collapsed": false,
    "deletable": true,
    "editable": true
   },
   "outputs": [],
   "source": [
    "# Apply class mapping\n",
    "segmented_rlm['RLMScore'] = segmented_rlm['RLMScore'].replace((111, 112, 211, 121, 311, 341, 241, 411,221), 1) \n",
    "segmented_rlm['RLMScore'] = segmented_rlm['RLMScore'].replace( (113, 122, 131, 141, 142, 212, 222, 223, 231, 232, 242, 312, 331,321, 322, 332, 342, 412, 421, 431, 432, 441), 2) \n",
    "segmented_rlm['RLMScore'] = segmented_rlm['RLMScore'].replace( (123, 114, 124, 132, 133, 134, 143, 213, 214, 224, 233, 234, 243, 313, 314, 323, 333, 334, 343, 413, 414, 423, 424, 433, 442), 3)\n",
    "segmented_rlm['RLMScore'] = segmented_rlm['RLMScore'].replace((144, 244, 324, 344, 434, 443, 444), 4)"
   ]
  },
  {
   "cell_type": "code",
   "execution_count": 997,
   "metadata": {
    "collapsed": false,
    "deletable": true,
    "editable": true
   },
   "outputs": [
    {
     "data": {
      "text/html": [
       "<div>\n",
       "<style scoped>\n",
       "    .dataframe tbody tr th:only-of-type {\n",
       "        vertical-align: middle;\n",
       "    }\n",
       "\n",
       "    .dataframe tbody tr th {\n",
       "        vertical-align: top;\n",
       "    }\n",
       "\n",
       "    .dataframe thead th {\n",
       "        text-align: right;\n",
       "    }\n",
       "</style>\n",
       "<table border=\"1\" class=\"dataframe\">\n",
       "  <thead>\n",
       "    <tr style=\"text-align: right;\">\n",
       "      <th></th>\n",
       "      <th>client_id</th>\n",
       "      <th>recency</th>\n",
       "      <th>Pack</th>\n",
       "      <th>monetary_value</th>\n",
       "      <th>Level</th>\n",
       "      <th>r_quartile</th>\n",
       "      <th>level_quartile</th>\n",
       "      <th>m_quartile</th>\n",
       "      <th>RLMScore</th>\n",
       "    </tr>\n",
       "  </thead>\n",
       "  <tbody>\n",
       "    <tr>\n",
       "      <th>0</th>\n",
       "      <td>p0016p4a0ap</td>\n",
       "      <td>2.0</td>\n",
       "      <td>10</td>\n",
       "      <td>185.00</td>\n",
       "      <td>4078.383183</td>\n",
       "      <td>1</td>\n",
       "      <td>3</td>\n",
       "      <td>1</td>\n",
       "      <td>2</td>\n",
       "    </tr>\n",
       "    <tr>\n",
       "      <th>1</th>\n",
       "      <td>p0044p434bp</td>\n",
       "      <td>9.0</td>\n",
       "      <td>20</td>\n",
       "      <td>197.45</td>\n",
       "      <td>8909.580270</td>\n",
       "      <td>3</td>\n",
       "      <td>2</td>\n",
       "      <td>1</td>\n",
       "      <td>2</td>\n",
       "    </tr>\n",
       "    <tr>\n",
       "      <th>2</th>\n",
       "      <td>p004dp4a20p</td>\n",
       "      <td>2.0</td>\n",
       "      <td>60</td>\n",
       "      <td>389.40</td>\n",
       "      <td>25476.006447</td>\n",
       "      <td>1</td>\n",
       "      <td>1</td>\n",
       "      <td>1</td>\n",
       "      <td>1</td>\n",
       "    </tr>\n",
       "    <tr>\n",
       "      <th>3</th>\n",
       "      <td>p00c0p4ab6p</td>\n",
       "      <td>NaN</td>\n",
       "      <td>0</td>\n",
       "      <td>0.00</td>\n",
       "      <td>10193.103499</td>\n",
       "      <td>4</td>\n",
       "      <td>2</td>\n",
       "      <td>4</td>\n",
       "      <td>3</td>\n",
       "    </tr>\n",
       "    <tr>\n",
       "      <th>4</th>\n",
       "      <td>p00c9p11e7p</td>\n",
       "      <td>1.0</td>\n",
       "      <td>6</td>\n",
       "      <td>5.94</td>\n",
       "      <td>2217.575294</td>\n",
       "      <td>1</td>\n",
       "      <td>3</td>\n",
       "      <td>3</td>\n",
       "      <td>3</td>\n",
       "    </tr>\n",
       "  </tbody>\n",
       "</table>\n",
       "</div>"
      ],
      "text/plain": [
       "     client_id  recency  Pack  monetary_value         Level  r_quartile  \\\n",
       "0  p0016p4a0ap      2.0    10          185.00   4078.383183           1   \n",
       "1  p0044p434bp      9.0    20          197.45   8909.580270           3   \n",
       "2  p004dp4a20p      2.0    60          389.40  25476.006447           1   \n",
       "3  p00c0p4ab6p      NaN     0            0.00  10193.103499           4   \n",
       "4  p00c9p11e7p      1.0     6            5.94   2217.575294           1   \n",
       "\n",
       "   level_quartile  m_quartile  RLMScore  \n",
       "0               3           1         2  \n",
       "1               2           1         2  \n",
       "2               1           1         1  \n",
       "3               2           4         3  \n",
       "4               3           3         3  "
      ]
     },
     "execution_count": 997,
     "metadata": {},
     "output_type": "execute_result"
    }
   ],
   "source": [
    "segmented_rlm.head()"
   ]
  },
  {
   "cell_type": "markdown",
   "metadata": {
    "deletable": true,
    "editable": true
   },
   "source": [
    "We can make a quick distribution plot to show the distribution. \n",
    "I'll use an OrderedDict to map the player performance score  to colors because this keeps the keys and values in the same order as we specify (unlike a regular Python dictionary)."
   ]
  },
  {
   "cell_type": "code",
   "execution_count": 999,
   "metadata": {
    "collapsed": false,
    "deletable": true,
    "editable": true
   },
   "outputs": [
    {
     "data": {
      "text/plain": [
       "1      861\n",
       "2      516\n",
       "3      677\n",
       "422     46\n",
       "Name: RLMScore, dtype: int64"
      ]
     },
     "execution_count": 999,
     "metadata": {},
     "output_type": "execute_result"
    },
    {
     "data": {
      "image/png": "[encoded data removed]",
      "text/plain": [
       "<Figure size 576x432 with 1 Axes>"
      ]
     },
     "metadata": {},
     "output_type": "display_data"
    }
   ],
   "source": [
    "from collections import OrderedDict\n",
    "\n",
    "plt.figure(figsize = (20, 16))\n",
    "plt.style.use('fivethirtyeight')\n",
    "# Color mapping\n",
    "colors = OrderedDict({1: 'red', 2: 'orange', 3: 'blue', 4: 'green'})\n",
    "class_mapping = OrderedDict({1: 'Very good', 2: 'Good', 3: 'Moderate', 4: 'Low'})\n",
    "\n",
    "\n",
    "label_counts = segmented_rfm['RLMScore'].value_counts().sort_index()\n",
    "\n",
    "# Bar plot of occurrences of each label\n",
    "label_counts.plot.bar(figsize = (8, 6), \n",
    "                      color = colors.values(),\n",
    "                      edgecolor = 'k', linewidth = 2)\n",
    "\n",
    "# Formatting\n",
    "plt.xlabel('RLMScore'); plt.ylabel('Count'); \n",
    "plt.xticks([x - 1 for x in class_mapping.keys()], \n",
    "           list(class_mapping.values()), rotation = 60)\n",
    "plt.title('Performance Classes Breakdown');\n",
    "\n",
    "label_counts"
   ]
  },
  {
   "cell_type": "code",
   "execution_count": null,
   "metadata": {
    "collapsed": true,
    "deletable": true,
    "editable": true
   },
   "outputs": [],
   "source": []
  },
  {
   "cell_type": "markdown",
   "metadata": {
    "collapsed": true,
    "deletable": true,
    "editable": true
   },
   "source": [
    "### Question C"
   ]
  },
  {
   "cell_type": "markdown",
   "metadata": {
    "collapsed": true,
    "deletable": true,
    "editable": true
   },
   "source": [
    "If you had to design a metric system for an in-game store with soft and hard currencies, what metrics (up to 10) would you monitor and why?"
   ]
  },
  {
   "cell_type": "markdown",
   "metadata": {
    "deletable": true,
    "editable": true
   },
   "source": [
    "#### User metrics:\n",
    "\n",
    "- New users (maybe along with retention and churn metrics) : knowing how many new users start playing the game in a particular month might help visualize the growth of of it; also enbales to quantify which marketing channel works best\n",
    "- Sessions: total playtime per player and when (during the day/night); For the active players, I would separate them by day-hours and night-hours (hours corresponding to their country, log-in hour), minutes spent, in order to know when is best time to upgrade or release version.\n",
    "- Start levels  \n",
    "- Fail levels (a user starts a level but does not complete it) \n",
    "- Complete levels\n",
    "\n",
    "The progression metrics (start, fail, complete) are useful in case of leveling component games and help analyse them.\n",
    "\n",
    "#### More Important - Customer metrics:\n",
    "\n",
    "- __Sink__ (revenue per user in hard and soft  currency) : how much money a player has spent and where/on what did spend it  \n",
    "- __Source__  (revenue per user in soft  currency): how much currency  has earned \n",
    "- __Flow__ : the total balance of currency that your players have spent and earned)\n",
    "\n",
    "Sink, Source and Flow can be useful to build up a recommandation system based on players' preferences/behaviour/purchase history for what items should buy\n",
    " \n",
    "#### *Extra: Performance metrics\n",
    "\n",
    "- rate at which a game executes on a client hardware platform (to know on which platform chancges/updates have to be made)\n",
    "- impact of patches and updates on how well the client executes: \n",
    "- monitoring changing features\n",
    "- number of bugs found – per hour, day, week or any other timeframe\n",
    "\n",
    "Note: for part of these matrics, I have looked at this [resource](https://people.ok.ubc.ca/bowenhui/game/readings/ch2-game-metrics.pdf)."
   ]
  },
  {
   "cell_type": "code",
   "execution_count": null,
   "metadata": {
    "collapsed": true,
    "deletable": true,
    "editable": true
   },
   "outputs": [],
   "source": []
  }
 ],
 "metadata": {
  "kernelspec": {
   "display_name": "Python 3",
   "language": "python",
   "name": "python3"
  },
  "language_info": {
   "codemirror_mode": {
    "name": "ipython",
    "version": 3
   },
   "file_extension": ".py",
   "mimetype": "text/x-python",
   "name": "python",
   "nbconvert_exporter": "python",
   "pygments_lexer": "ipython3",
   "version": "3.6.3"
  }
 },
 "nbformat": 4,
 "nbformat_minor": 2
}
